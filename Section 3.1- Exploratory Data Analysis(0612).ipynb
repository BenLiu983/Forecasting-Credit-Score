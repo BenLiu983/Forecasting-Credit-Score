{
 "cells": [
  {
   "cell_type": "markdown",
   "metadata": {},
   "source": [
    "Introduction:\n",
    "This dataset contains information about 30 features (columns) of near 1 million loan applicants of a bank, which is a peer to peer lending bank based in the Ireland. The complete dataset is from Lending Club, and it has been changed from Kaggle."
   ]
  },
  {
   "cell_type": "code",
   "execution_count": 1,
   "metadata": {},
   "outputs": [],
   "source": [
    "import pandas as pd\n",
    "import numpy as np\n",
    "import matplotlib.pyplot as plt\n",
    "import seaborn as sns\n",
    "from scipy import stats\n",
    "plt.style.use('classic')\n",
    "%matplotlib inline\n",
    "sns.set()"
   ]
  },
  {
   "cell_type": "code",
   "execution_count": 2,
   "metadata": {},
   "outputs": [
    {
     "data": {
      "text/html": [
       "<div>\n",
       "<style scoped>\n",
       "    .dataframe tbody tr th:only-of-type {\n",
       "        vertical-align: middle;\n",
       "    }\n",
       "\n",
       "    .dataframe tbody tr th {\n",
       "        vertical-align: top;\n",
       "    }\n",
       "\n",
       "    .dataframe thead th {\n",
       "        text-align: right;\n",
       "    }\n",
       "</style>\n",
       "<table border=\"1\" class=\"dataframe\">\n",
       "  <thead>\n",
       "    <tr style=\"text-align: right;\">\n",
       "      <th></th>\n",
       "      <th>id</th>\n",
       "      <th>year</th>\n",
       "      <th>issue_d</th>\n",
       "      <th>final_d</th>\n",
       "      <th>emp_length_int</th>\n",
       "      <th>home_ownership</th>\n",
       "      <th>home_ownership_cat</th>\n",
       "      <th>income_category</th>\n",
       "      <th>annual_inc</th>\n",
       "      <th>income_cat</th>\n",
       "      <th>...</th>\n",
       "      <th>loan_condition_cat</th>\n",
       "      <th>interest_rate</th>\n",
       "      <th>grade</th>\n",
       "      <th>grade_cat</th>\n",
       "      <th>dti</th>\n",
       "      <th>total_pymnt</th>\n",
       "      <th>total_rec_prncp</th>\n",
       "      <th>recoveries</th>\n",
       "      <th>installment</th>\n",
       "      <th>region</th>\n",
       "    </tr>\n",
       "  </thead>\n",
       "  <tbody>\n",
       "    <tr>\n",
       "      <th>0</th>\n",
       "      <td>1077501</td>\n",
       "      <td>2011</td>\n",
       "      <td>01/12/2011</td>\n",
       "      <td>1012015</td>\n",
       "      <td>10.0</td>\n",
       "      <td>RENT</td>\n",
       "      <td>1</td>\n",
       "      <td>Low</td>\n",
       "      <td>24000</td>\n",
       "      <td>1</td>\n",
       "      <td>...</td>\n",
       "      <td>0</td>\n",
       "      <td>10.65</td>\n",
       "      <td>B</td>\n",
       "      <td>2</td>\n",
       "      <td>27.65</td>\n",
       "      <td>5861.071414</td>\n",
       "      <td>5000.00</td>\n",
       "      <td>0.00</td>\n",
       "      <td>162.87</td>\n",
       "      <td>munster</td>\n",
       "    </tr>\n",
       "    <tr>\n",
       "      <th>1</th>\n",
       "      <td>1077430</td>\n",
       "      <td>2011</td>\n",
       "      <td>01/12/2011</td>\n",
       "      <td>1042013</td>\n",
       "      <td>0.5</td>\n",
       "      <td>RENT</td>\n",
       "      <td>1</td>\n",
       "      <td>Low</td>\n",
       "      <td>30000</td>\n",
       "      <td>1</td>\n",
       "      <td>...</td>\n",
       "      <td>1</td>\n",
       "      <td>15.27</td>\n",
       "      <td>C</td>\n",
       "      <td>3</td>\n",
       "      <td>1.00</td>\n",
       "      <td>1008.710000</td>\n",
       "      <td>456.46</td>\n",
       "      <td>117.08</td>\n",
       "      <td>59.83</td>\n",
       "      <td>leinster</td>\n",
       "    </tr>\n",
       "    <tr>\n",
       "      <th>2</th>\n",
       "      <td>1077175</td>\n",
       "      <td>2011</td>\n",
       "      <td>01/12/2011</td>\n",
       "      <td>1062014</td>\n",
       "      <td>10.0</td>\n",
       "      <td>RENT</td>\n",
       "      <td>1</td>\n",
       "      <td>Low</td>\n",
       "      <td>12252</td>\n",
       "      <td>1</td>\n",
       "      <td>...</td>\n",
       "      <td>0</td>\n",
       "      <td>15.96</td>\n",
       "      <td>C</td>\n",
       "      <td>3</td>\n",
       "      <td>8.72</td>\n",
       "      <td>3003.653644</td>\n",
       "      <td>2400.00</td>\n",
       "      <td>0.00</td>\n",
       "      <td>84.33</td>\n",
       "      <td>cannught</td>\n",
       "    </tr>\n",
       "    <tr>\n",
       "      <th>3</th>\n",
       "      <td>1076863</td>\n",
       "      <td>2011</td>\n",
       "      <td>01/12/2011</td>\n",
       "      <td>1012015</td>\n",
       "      <td>10.0</td>\n",
       "      <td>RENT</td>\n",
       "      <td>1</td>\n",
       "      <td>Low</td>\n",
       "      <td>49200</td>\n",
       "      <td>1</td>\n",
       "      <td>...</td>\n",
       "      <td>0</td>\n",
       "      <td>13.49</td>\n",
       "      <td>C</td>\n",
       "      <td>3</td>\n",
       "      <td>20.00</td>\n",
       "      <td>12226.302210</td>\n",
       "      <td>10000.00</td>\n",
       "      <td>0.00</td>\n",
       "      <td>339.31</td>\n",
       "      <td>ulster</td>\n",
       "    </tr>\n",
       "    <tr>\n",
       "      <th>4</th>\n",
       "      <td>1075358</td>\n",
       "      <td>2011</td>\n",
       "      <td>01/12/2011</td>\n",
       "      <td>1012016</td>\n",
       "      <td>1.0</td>\n",
       "      <td>RENT</td>\n",
       "      <td>1</td>\n",
       "      <td>Low</td>\n",
       "      <td>80000</td>\n",
       "      <td>1</td>\n",
       "      <td>...</td>\n",
       "      <td>0</td>\n",
       "      <td>12.69</td>\n",
       "      <td>B</td>\n",
       "      <td>2</td>\n",
       "      <td>17.94</td>\n",
       "      <td>3242.170000</td>\n",
       "      <td>2233.10</td>\n",
       "      <td>0.00</td>\n",
       "      <td>67.79</td>\n",
       "      <td>ulster</td>\n",
       "    </tr>\n",
       "  </tbody>\n",
       "</table>\n",
       "<p>5 rows × 30 columns</p>\n",
       "</div>"
      ],
      "text/plain": [
       "        id  year     issue_d  final_d  emp_length_int home_ownership  \\\n",
       "0  1077501  2011  01/12/2011  1012015            10.0           RENT   \n",
       "1  1077430  2011  01/12/2011  1042013             0.5           RENT   \n",
       "2  1077175  2011  01/12/2011  1062014            10.0           RENT   \n",
       "3  1076863  2011  01/12/2011  1012015            10.0           RENT   \n",
       "4  1075358  2011  01/12/2011  1012016             1.0           RENT   \n",
       "\n",
       "   home_ownership_cat income_category  annual_inc  income_cat    ...     \\\n",
       "0                   1             Low       24000           1    ...      \n",
       "1                   1             Low       30000           1    ...      \n",
       "2                   1             Low       12252           1    ...      \n",
       "3                   1             Low       49200           1    ...      \n",
       "4                   1             Low       80000           1    ...      \n",
       "\n",
       "   loan_condition_cat interest_rate  grade grade_cat    dti   total_pymnt  \\\n",
       "0                   0         10.65      B         2  27.65   5861.071414   \n",
       "1                   1         15.27      C         3   1.00   1008.710000   \n",
       "2                   0         15.96      C         3   8.72   3003.653644   \n",
       "3                   0         13.49      C         3  20.00  12226.302210   \n",
       "4                   0         12.69      B         2  17.94   3242.170000   \n",
       "\n",
       "   total_rec_prncp recoveries  installment    region  \n",
       "0          5000.00       0.00       162.87   munster  \n",
       "1           456.46     117.08        59.83  leinster  \n",
       "2          2400.00       0.00        84.33  cannught  \n",
       "3         10000.00       0.00       339.31    ulster  \n",
       "4          2233.10       0.00        67.79    ulster  \n",
       "\n",
       "[5 rows x 30 columns]"
      ]
     },
     "metadata": {},
     "output_type": "display_data"
    },
    {
     "name": "stdout",
     "output_type": "stream",
     "text": [
      "<class 'pandas.core.frame.DataFrame'>\n"
     ]
    }
   ],
   "source": [
    "# Import dataset\n",
    "data = pd.read_csv(\"loan_final313.csv\")\n",
    "display(data.head())\n",
    "print(type(data))"
   ]
  },
  {
   "cell_type": "markdown",
   "metadata": {},
   "source": [
    "# Feature 1 - Income"
   ]
  },
  {
   "cell_type": "code",
   "execution_count": 3,
   "metadata": {},
   "outputs": [
    {
     "name": "stdout",
     "output_type": "stream",
     "text": [
      "0    24000\n",
      "1    30000\n",
      "2    12252\n",
      "3    49200\n",
      "4    80000\n",
      "Name: annual_inc, dtype: int64\n",
      "0    1\n",
      "1    1\n",
      "2    1\n",
      "3    1\n",
      "4    1\n",
      "Name: income_cat, dtype: int64\n",
      "[1 2 3]\n"
     ]
    }
   ],
   "source": [
    "# First 5 records\n",
    "income = data.iloc[:,8]\n",
    "print(income.head())\n",
    "income_cat = data.iloc[:,9]\n",
    "print(income_cat.head())\n",
    "\n",
    "# Unique values\n",
    "print(income_cat.unique())"
   ]
  },
  {
   "cell_type": "markdown",
   "metadata": {},
   "source": [
    "* It does not mention the criteria for income type 1, 2 and 3, so we have to find out."
   ]
  },
  {
   "cell_type": "code",
   "execution_count": 4,
   "metadata": {},
   "outputs": [
    {
     "name": "stdout",
     "output_type": "stream",
     "text": [
      "count    729616.000000\n",
      "mean      58581.971748\n",
      "std       20753.331500\n",
      "min           0.000000\n",
      "25%       42000.000000\n",
      "50%       57000.000000\n",
      "75%       75000.000000\n",
      "max      100000.000000\n",
      "Name: annual_inc, dtype: float64\n",
      "count    140977.000000\n",
      "mean     131578.972910\n",
      "std       25188.435369\n",
      "min      100000.000000\n",
      "25%      110000.000000\n",
      "50%      125000.000000\n",
      "75%      148000.000000\n",
      "max      200000.000000\n",
      "Name: annual_inc, dtype: float64\n",
      "count    1.678600e+04\n",
      "mean     3.149025e+05\n",
      "std      3.179370e+05\n",
      "min      2.000010e+05\n",
      "25%      2.250000e+05\n",
      "50%      2.500000e+05\n",
      "75%      3.150000e+05\n",
      "max      9.500000e+06\n",
      "Name: annual_inc, dtype: float64\n"
     ]
    }
   ],
   "source": [
    "print(income[income_cat == 1].describe())\n",
    "print(income[income_cat == 2].describe())\n",
    "print(income[income_cat == 3].describe())"
   ]
  },
  {
   "cell_type": "markdown",
   "metadata": {},
   "source": [
    " * type 1 - （0, 100,000], type 2 - （100,000, 200,000], type 3 - (200,000, 9,500,000]"
   ]
  },
  {
   "cell_type": "code",
   "execution_count": 5,
   "metadata": {},
   "outputs": [
    {
     "name": "stdout",
     "output_type": "stream",
     "text": [
      "count    8.873790e+05\n",
      "mean     7.502759e+04\n",
      "std      6.469815e+04\n",
      "min      0.000000e+00\n",
      "25%      4.500000e+04\n",
      "50%      6.500000e+04\n",
      "75%      9.000000e+04\n",
      "max      9.500000e+06\n",
      "Name: annual_inc, dtype: float64\n"
     ]
    }
   ],
   "source": [
    "# Basic statistics\n",
    "print(income.describe())"
   ]
  },
  {
   "cell_type": "markdown",
   "metadata": {},
   "source": [
    "* It is noticeable that min and 75% percentile are less than 100,000 euro, which means that more than 75% of the clients belong to low income category. It is consistent to the common sense."
   ]
  },
  {
   "cell_type": "markdown",
   "metadata": {},
   "source": [
    "# Feature 2 - Employment length"
   ]
  },
  {
   "cell_type": "code",
   "execution_count": 6,
   "metadata": {
    "scrolled": false
   },
   "outputs": [
    {
     "name": "stdout",
     "output_type": "stream",
     "text": [
      "0    10.0\n",
      "1     0.5\n",
      "2    10.0\n",
      "3    10.0\n",
      "4     1.0\n",
      "Name: emp_length_int, dtype: float64\n",
      "[10.    0.5   1.    3.    8.    9.    4.    5.    6.    2.    7.    6.05]\n"
     ]
    }
   ],
   "source": [
    "# First 5 records\n",
    "emp_len = data.iloc[:,4]\n",
    "print(emp_len.head())\n",
    "\n",
    "# Unique values\n",
    "print(emp_len.unique())"
   ]
  },
  {
   "cell_type": "code",
   "execution_count": 7,
   "metadata": {
    "scrolled": false
   },
   "outputs": [
    {
     "name": "stdout",
     "output_type": "stream",
     "text": [
      "count    887379.000000\n",
      "mean          6.050564\n",
      "std           3.507405\n",
      "min           0.500000\n",
      "25%           3.000000\n",
      "50%           6.050000\n",
      "75%          10.000000\n",
      "max          10.000000\n",
      "Name: emp_length_int, dtype: float64\n"
     ]
    }
   ],
   "source": [
    "# Basic statistics\n",
    "print(emp_len.describe())"
   ]
  },
  {
   "cell_type": "markdown",
   "metadata": {},
   "source": [
    "* Notice that 75% percentile and max are both 10, which implies at least 1/4 of the clients have a employment length of 10 years."
   ]
  },
  {
   "cell_type": "code",
   "execution_count": 8,
   "metadata": {},
   "outputs": [
    {
     "data": {
      "image/png": "[encoded data removed]",
      "text/plain": [
       "<Figure size 720x360 with 1 Axes>"
      ]
     },
     "metadata": {},
     "output_type": "display_data"
    }
   ],
   "source": [
    "# Histogram\n",
    "with sns.axes_style('white'):\n",
    "    g1 = sns.catplot(\"emp_length_int\", data=data, aspect=2, kind=\"count\", color='steelblue')\n",
    "    g1.set(xlabel='Employment Length (year)', ylabel='Count')\n",
    "g1.savefig('emp_len_his.png')"
   ]
  },
  {
   "cell_type": "markdown",
   "metadata": {},
   "source": [
    "\n",
    "* It is obvious that the last category takes up a high percentage."
   ]
  },
  {
   "cell_type": "code",
   "execution_count": 9,
   "metadata": {},
   "outputs": [
    {
     "data": {
      "text/plain": [
       "0.32857324773293034"
      ]
     },
     "execution_count": 9,
     "metadata": {},
     "output_type": "execute_result"
    }
   ],
   "source": [
    "(emp_len == 10).sum() / len(emp_len)"
   ]
  },
  {
   "cell_type": "markdown",
   "metadata": {},
   "source": [
    "* To be specific, 32.8% of the clients have a long term of employment (10 years)."
   ]
  },
  {
   "cell_type": "markdown",
   "metadata": {},
   "source": [
    "# Feature 3 - Interest rate"
   ]
  },
  {
   "cell_type": "code",
   "execution_count": 10,
   "metadata": {},
   "outputs": [
    {
     "name": "stdout",
     "output_type": "stream",
     "text": [
      "0    10.65\n",
      "1    15.27\n",
      "2    15.96\n",
      "3    13.49\n",
      "4    12.69\n",
      "Name: interest_rate, dtype: float64\n",
      "[10.65 15.27 15.96 13.49 12.69  7.9  18.64 21.28 14.65  9.91 16.29  6.03\n",
      " 11.71 12.42 14.27 16.77  7.51  8.9  18.25  6.62 19.91 17.27 17.58 21.67\n",
      " 19.42 22.06 20.89 20.3  23.91 19.03 23.52 23.13 22.74 22.35 24.11  6.\n",
      " 22.11  7.49 11.99  5.99 10.99  9.99 18.79 11.49  8.49 15.99 16.49  6.99\n",
      " 12.99 15.23 14.79  5.42 10.59 17.49 15.62 21.36 19.29 13.99 18.39 16.89\n",
      " 17.99 20.62 20.99 22.85 19.69 20.25 23.22 21.74 22.48 23.59 12.62 18.07\n",
      " 11.63  7.91  7.42 11.14 20.2  12.12 19.39 16.11 17.54 22.64 13.84 16.59\n",
      " 17.19 12.87 20.69  9.67 21.82 19.79 18.49 22.94 24.59 24.4  21.48 14.82\n",
      " 14.17  7.29 17.88 20.11 16.02 17.51 13.43 14.91 13.06 15.28 15.65 17.14\n",
      " 11.11 10.37 16.4   7.66 10.   18.62 10.74  5.79  6.92  9.63 14.54 12.68\n",
      " 19.36 13.8  18.99 21.59 20.85 21.22 19.74 20.48  6.91 12.23 12.61 10.36\n",
      "  6.17  6.54  9.25 16.69 15.95  8.88 13.35  9.62 16.32 12.98 14.83 13.72\n",
      " 14.09 14.46 20.03 17.8  15.2  15.57 18.54 19.66 17.06 18.17 17.43 20.4\n",
      " 20.77 18.91 21.14 17.44 13.23  7.88 11.12 13.61 10.38 17.56 17.93 15.58\n",
      " 13.98 14.84 15.21  6.76  6.39 11.86  7.14 14.35 16.82 10.75 14.72 16.45\n",
      " 18.67 20.53 19.41 20.16 21.27 18.3  19.04 20.9  21.64 12.73 10.25 13.11\n",
      " 10.62 13.48 14.59 16.07 15.7   9.88 11.36 15.33 13.85 14.96 14.22  7.74\n",
      " 13.22 13.57  8.59 17.04 14.61  8.94 12.18 11.83 11.48 16.35 13.92 15.31\n",
      " 14.26 19.13 12.53 16.7  16.   17.39 18.09  7.4  18.43 17.74  7.05 20.52\n",
      " 20.86 19.47 18.78 21.21 19.82 20.17 13.16  8.   13.47 12.21 16.63  9.32\n",
      " 12.84 11.26 15.68 15.37 10.95 11.89 14.11 13.79  7.68 11.58  7.37 16.95\n",
      " 15.05 18.53 14.74 14.42 18.21 17.26 18.84 17.9  19.16 13.67  9.38 12.72\n",
      " 13.36 11.46 10.51  9.07 13.04 11.78 12.41 10.83 12.09 17.46 14.3  17.15\n",
      " 15.25 10.2  15.88 14.93 16.2  18.72 14.62  8.32 14.12 10.96 10.33 10.01\n",
      " 12.86 11.28 11.59  8.63 12.54 12.22 11.91 15.38 16.96 13.17  9.7  16.33\n",
      " 14.75 15.07 16.01 10.71 10.64  9.76 11.34 10.39 13.87 11.03 11.66 13.24\n",
      " 10.08  9.45 13.55 12.29 11.97 12.92 15.45 14.5  14.18 15.13 16.08 15.76\n",
      " 17.03 17.34 16.71  9.83 13.62 10.46  9.51  9.2  13.3  10.78  7.75  8.38\n",
      " 12.36 12.67 11.72 13.93  8.07  7.43 12.04 14.25 14.88 11.41 11.09 10.14\n",
      " 16.15 15.83  7.12 18.36  9.64  9.96 11.22  9.01  9.33 11.54 12.17 12.8\n",
      " 14.38 13.75 14.7  12.49 14.07 10.91 13.12 10.28  8.7  14.67 15.01 17.78\n",
      " 16.83 17.59 14.43 16.65 17.91 17.28 18.86 18.61 17.66 18.29 17.97 18.04\n",
      " 14.57 17.72 17.09 15.51 16.46 17.41 17.22 16.91 16.28 17.86 13.53 12.85\n",
      " 16.24  7.62 19.97 14.98 22.9  14.47 19.22 20.5  15.61 17.57 22.4  23.4\n",
      " 16.99 23.7  25.89 25.8  24.08 24.99 25.57 26.06 25.99 24.5  25.83 21.7\n",
      " 17.76 15.1  18.55 19.52 19.2  17.1  21.   23.1   6.97  8.6  11.55 13.68\n",
      " 15.22 22.7   9.71 21.6  22.2  18.85 14.33 16.78 13.05 24.89 23.5  21.15\n",
      " 12.35 20.8  20.31 25.28 19.05 23.28 10.16 18.75 17.77 15.8  19.72 23.76\n",
      " 20.49 24.7  21.98 23.83 23.63 22.47 22.95 21.49 24.83 21.97 15.81 22.45\n",
      " 22.78 23.33 19.99 24.2  24.76 24.33 23.26 24.52 14.28 12.39 13.66 15.59\n",
      " 11.44 21.99 14.31 10.49 14.99  9.49  8.19 22.99  8.67 19.24  6.49 23.99\n",
      " 10.15 18.24  8.39 11.67  7.69  9.17 14.49 22.15 23.43 13.65 14.64 21.18\n",
      " 18.92 14.16  5.32 14.85  9.8  13.44 19.89 15.77 12.88 19.48 24.24 27.49\n",
      " 26.99 27.99 28.49 25.09 28.99 16.55 12.59  7.89  7.26 14.48 13.18 18.2\n",
      "  6.24 15.41  6.89 27.88 27.31 26.77 12.05  8.18 11.53 13.33 19.19 25.78\n",
      "  5.93  6.68]\n"
     ]
    }
   ],
   "source": [
    "# First 5 records\n",
    "int_rate = data.iloc[:,21]\n",
    "print(int_rate.head())\n",
    "\n",
    "# Unique values\n",
    "print(int_rate.unique())"
   ]
  },
  {
   "cell_type": "code",
   "execution_count": 11,
   "metadata": {},
   "outputs": [
    {
     "name": "stdout",
     "output_type": "stream",
     "text": [
      "count    887379.000000\n",
      "mean         13.246740\n",
      "std           4.381867\n",
      "min           5.320000\n",
      "25%           9.990000\n",
      "50%          12.990000\n",
      "75%          16.200000\n",
      "max          28.990000\n",
      "Name: interest_rate, dtype: float64\n"
     ]
    }
   ],
   "source": [
    "# Basic statistics\n",
    "print(int_rate.describe())"
   ]
  },
  {
   "cell_type": "code",
   "execution_count": 12,
   "metadata": {},
   "outputs": [
    {
     "name": "stdout",
     "output_type": "stream",
     "text": [
      "The null hypothesis can be rejected\n"
     ]
    }
   ],
   "source": [
    "# Test if \"interest rate\" is from a normal distribution\n",
    "k2,p2 = stats.normaltest(int_rate)\n",
    "alpha = 5e-2\n",
    "\n",
    "if p2 < alpha:  # null hypothesis: x comes from a normal distribution\n",
    "    print(\"The null hypothesis can be rejected\")\n",
    "else:\n",
    "    print(\"The null hypothesis cannot be rejected\")"
   ]
  },
  {
   "cell_type": "markdown",
   "metadata": {},
   "source": [
    "* Feature interst rate is not from a normal distribution."
   ]
  },
  {
   "cell_type": "markdown",
   "metadata": {},
   "source": [
    "# Feature 4 - Loan amount"
   ]
  },
  {
   "cell_type": "code",
   "execution_count": 13,
   "metadata": {},
   "outputs": [
    {
     "name": "stdout",
     "output_type": "stream",
     "text": [
      "0     5000\n",
      "1     2500\n",
      "2     2400\n",
      "3    10000\n",
      "4     3000\n",
      "Name: loan_amount, dtype: int64\n",
      "[ 5000  2500  2400 ... 32925 32825 32575]\n"
     ]
    }
   ],
   "source": [
    "# First 5 records\n",
    "loan_amount = data.iloc[:,10]\n",
    "print(loan_amount.head())\n",
    "\n",
    "# Unique values\n",
    "print(loan_amount.unique())"
   ]
  },
  {
   "cell_type": "code",
   "execution_count": 14,
   "metadata": {},
   "outputs": [
    {
     "name": "stdout",
     "output_type": "stream",
     "text": [
      "count    887379.000000\n",
      "mean      14755.264605\n",
      "std        8435.455601\n",
      "min         500.000000\n",
      "25%        8000.000000\n",
      "50%       13000.000000\n",
      "75%       20000.000000\n",
      "max       35000.000000\n",
      "Name: loan_amount, dtype: float64\n"
     ]
    }
   ],
   "source": [
    "# Basic statistics\n",
    "print(loan_amount.describe())"
   ]
  },
  {
   "cell_type": "code",
   "execution_count": 15,
   "metadata": {},
   "outputs": [
    {
     "name": "stdout",
     "output_type": "stream",
     "text": [
      "The null hypothesis can be rejected\n"
     ]
    }
   ],
   "source": [
    "# Test if \"Loan amount\" is from a normal distribution\n",
    "k1,p1 = stats.normaltest(loan_amount)\n",
    "alpha = 5e-2\n",
    "\n",
    "if p1 < alpha:  # null hypothesis: x comes from a normal distribution\n",
    "    print(\"The null hypothesis can be rejected\")\n",
    "else:\n",
    "    print(\"The null hypothesis cannot be rejected\")"
   ]
  },
  {
   "cell_type": "markdown",
   "metadata": {},
   "source": [
    "* According to the test, \"loan amount\" is not from a normal distribution."
   ]
  },
  {
   "cell_type": "code",
   "execution_count": 16,
   "metadata": {},
   "outputs": [
    {
     "data": {
      "image/png": "[encoded data removed]",
      "text/plain": [
       "<Figure size 432x288 with 1 Axes>"
      ]
     },
     "metadata": {
      "needs_background": "light"
     },
     "output_type": "display_data"
    }
   ],
   "source": [
    "# Boxplot\n",
    "bplot = sns.boxplot(data=loan_amount, width=0.4, palette=\"colorblind\")\n",
    "bplot.set(ylim=(10, 40000))\n",
    "plt.savefig('loa_amo_box.png')"
   ]
  },
  {
   "cell_type": "markdown",
   "metadata": {},
   "source": [
    "# Feature 5 - Loan term"
   ]
  },
  {
   "cell_type": "code",
   "execution_count": 17,
   "metadata": {},
   "outputs": [
    {
     "name": "stdout",
     "output_type": "stream",
     "text": [
      "0     36 months\n",
      "1     60 months\n",
      "2     36 months\n",
      "3     36 months\n",
      "4     60 months\n",
      "Name: term, dtype: object\n",
      "[' 36 months' ' 60 months']\n"
     ]
    }
   ],
   "source": [
    "# First 5 records\n",
    "loan_term = data.iloc[:,11]\n",
    "print(loan_term.head())\n",
    "\n",
    "# Unique values\n",
    "print(loan_term.unique())"
   ]
  },
  {
   "cell_type": "code",
   "execution_count": 18,
   "metadata": {},
   "outputs": [
    {
     "data": {
      "image/png": "[encoded data removed]",
      "text/plain": [
       "<Figure size 432x288 with 1 Axes>"
      ]
     },
     "metadata": {},
     "output_type": "display_data"
    }
   ],
   "source": [
    "# Pie chart\n",
    "labels =['36 months', '60 months']\n",
    "s1 = loan_term.str.contains('36 months').sum()/len(loan_term)\n",
    "s2 = loan_term.str.contains('60 months').sum()/len(loan_term)\n",
    "sizes = [s1, s2]\n",
    "\n",
    "fig1, ax1 = plt.subplots()\n",
    "ax1.pie(sizes, labels=labels, autopct='%1.1f%%', shadow=True,  textprops={'fontsize': 15})\n",
    "ax1.axis('equal')\n",
    "plt.savefig('loa_ter_pie.png')"
   ]
  },
  {
   "cell_type": "markdown",
   "metadata": {},
   "source": [
    "# Feature 6 - Grade"
   ]
  },
  {
   "cell_type": "code",
   "execution_count": 19,
   "metadata": {},
   "outputs": [
    {
     "name": "stdout",
     "output_type": "stream",
     "text": [
      "0    B\n",
      "1    C\n",
      "2    C\n",
      "3    C\n",
      "4    B\n",
      "Name: grade, dtype: object\n",
      "['B' 'C' 'A' 'E' 'F' 'D' 'G']\n"
     ]
    }
   ],
   "source": [
    "# First 5 records\n",
    "grade = data.iloc[:,22]\n",
    "print(grade.head())\n",
    "\n",
    "# Unique values\n",
    "print(grade.unique())"
   ]
  },
  {
   "cell_type": "code",
   "execution_count": 20,
   "metadata": {},
   "outputs": [
    {
     "data": {
      "image/png": "[encoded data removed]",
      "text/plain": [
       "<Figure size 720x360 with 1 Axes>"
      ]
     },
     "metadata": {},
     "output_type": "display_data"
    }
   ],
   "source": [
    "# Bar plot\n",
    "with sns.axes_style('white'):\n",
    "    g11 = sns.catplot(\"grade\", data=data, aspect=2,\n",
    "                       kind=\"count\", color='steelblue', order=[\"A\", \"B\", \"C\", \"D\", \"E\", \"F\",\"G\"])\n",
    "    g11.set(xlabel='Grade', ylabel='Count')\n",
    "    g11.savefig('grade_his.png')"
   ]
  },
  {
   "cell_type": "code",
   "execution_count": 21,
   "metadata": {},
   "outputs": [
    {
     "data": {
      "text/plain": [
       "0.5639022334312622"
      ]
     },
     "execution_count": 21,
     "metadata": {},
     "output_type": "execute_result"
    }
   ],
   "source": [
    "(grade.str.contains('B').sum()+grade.str.contains('C').sum()) / len(grade)"
   ]
  },
  {
   "cell_type": "markdown",
   "metadata": {},
   "source": [
    "* Grade B and C take up 56.4% of the feature \"grade\"."
   ]
  },
  {
   "cell_type": "markdown",
   "metadata": {},
   "source": [
    "# Feature 7 - Loan condition"
   ]
  },
  {
   "cell_type": "code",
   "execution_count": 22,
   "metadata": {},
   "outputs": [
    {
     "name": "stdout",
     "output_type": "stream",
     "text": [
      "0    Good Loan\n",
      "1     Bad Loan\n",
      "2    Good Loan\n",
      "3    Good Loan\n",
      "4    Good Loan\n",
      "Name: loan_condition, dtype: object\n",
      "['Good Loan' 'Bad Loan']\n"
     ]
    }
   ],
   "source": [
    "# First 5 records\n",
    "loan_con = data.iloc[:,19]\n",
    "print(loan_con.head())\n",
    "\n",
    "# Unique values\n",
    "print(loan_con.unique())"
   ]
  },
  {
   "cell_type": "code",
   "execution_count": 23,
   "metadata": {},
   "outputs": [
    {
     "data": {
      "image/png": "[encoded data removed]",
      "text/plain": [
       "<Figure size 432x288 with 1 Axes>"
      ]
     },
     "metadata": {},
     "output_type": "display_data"
    }
   ],
   "source": [
    "# Pie chart\n",
    "labels3 =['Good Loan', 'Bad Loan']\n",
    "s5 = loan_con.str.contains('Good Loan').sum()/len(loan_con)\n",
    "s6 = loan_con.str.contains('Bad Loan').sum()/len(loan_con)\n",
    "sizes = [s5, s6]\n",
    "\n",
    "fig3, ax3 = plt.subplots()\n",
    "ax3.pie(sizes, labels=labels3, autopct='%1.1f%%', shadow=True,  textprops={'fontsize': 16})\n",
    "ax3.axis('equal')\n",
    "plt.savefig('loa_con_pie.png')"
   ]
  },
  {
   "cell_type": "markdown",
   "metadata": {},
   "source": [
    "# Feature 8 - Home ownership"
   ]
  },
  {
   "cell_type": "code",
   "execution_count": 24,
   "metadata": {},
   "outputs": [
    {
     "name": "stdout",
     "output_type": "stream",
     "text": [
      "0    RENT\n",
      "1    RENT\n",
      "2    RENT\n",
      "3    RENT\n",
      "4    RENT\n",
      "Name: home_ownership, dtype: object\n",
      "['RENT' 'OWN' 'MORTGAGE' 'OTHER' 'NONE' 'ANY']\n"
     ]
    }
   ],
   "source": [
    "# First 5 records\n",
    "home_own = data.iloc[:,5]\n",
    "print(home_own.head())\n",
    "\n",
    "# Unique values\n",
    "print(home_own.unique())"
   ]
  },
  {
   "cell_type": "markdown",
   "metadata": {},
   "source": [
    "* type 1 - Rent, type 2 - Own, type 3 - Mortgage, type 4 - Other, type 5 - None, type 6 - Any."
   ]
  },
  {
   "cell_type": "code",
   "execution_count": 25,
   "metadata": {},
   "outputs": [
    {
     "data": {
      "image/png": "[encoded data removed]",
      "text/plain": [
       "<Figure size 720x360 with 1 Axes>"
      ]
     },
     "metadata": {},
     "output_type": "display_data"
    }
   ],
   "source": [
    "# Bar plot \n",
    "with sns.axes_style('white'):\n",
    "    g2 = sns.catplot(\"home_ownership\", data=data, aspect=2, kind=\"count\", color='steelblue')\n",
    "    g2.set(xlabel='Home ownership', ylabel='Count')\n",
    "g2.savefig('hom_own_his.png')"
   ]
  },
  {
   "cell_type": "code",
   "execution_count": 26,
   "metadata": {},
   "outputs": [
    {
     "data": {
      "text/plain": [
       "0.0002648248380906016"
      ]
     },
     "execution_count": 26,
     "metadata": {},
     "output_type": "execute_result"
    }
   ],
   "source": [
    "((home_own==\"OTHER\")|(home_own==\"NONE\")|(home_own==\"ANY\")).sum()/len(home_own)"
   ]
  },
  {
   "cell_type": "markdown",
   "metadata": {},
   "source": [
    "* To be specific, the last 3 types take up only 0.03%, which can be ignored in the next step of analysis."
   ]
  },
  {
   "cell_type": "markdown",
   "metadata": {},
   "source": [
    "# Feature 9 - Purpose"
   ]
  },
  {
   "cell_type": "code",
   "execution_count": 27,
   "metadata": {},
   "outputs": [
    {
     "name": "stdout",
     "output_type": "stream",
     "text": [
      "0       credit_card\n",
      "1               car\n",
      "2    small_business\n",
      "3             other\n",
      "4             other\n",
      "Name: purpose, dtype: object\n",
      "['credit_card' 'car' 'small_business' 'other' 'wedding'\n",
      " 'debt_consolidation' 'home_improvement' 'major_purchase' 'medical'\n",
      " 'moving' 'vacation' 'house' 'renewable_energy' 'educational']\n"
     ]
    }
   ],
   "source": [
    "# First 5 records\n",
    "purpose = data.iloc[:,15]\n",
    "print(purpose.head())\n",
    "\n",
    "# Unique values\n",
    "print(purpose.unique())"
   ]
  },
  {
   "cell_type": "markdown",
   "metadata": {},
   "source": [
    "* type 1 - credit_card, type 2 - car, type 3 - small_business, type 4 - other, type 5 - wedding, type 6 - debt_consolidation, type 7 - home_improvement, type 8 - major_purchase, type 9 - medical, type 10 - moving, type 11 - vacation, type 12 - house, type 13 - renewable_energy, type 14 - educational."
   ]
  },
  {
   "cell_type": "code",
   "execution_count": 28,
   "metadata": {},
   "outputs": [
    {
     "data": {
      "image/png": "[encoded data removed]",
      "text/plain": [
       "<Figure size 1080x360 with 1 Axes>"
      ]
     },
     "metadata": {},
     "output_type": "display_data"
    }
   ],
   "source": [
    "# Bar plot\n",
    "sns.set( font_scale=1.5)\n",
    "with sns.axes_style('white'):\n",
    "    g7 = sns.catplot(y=\"purpose\", data=data, aspect=3, kind=\"count\", color='steelblue')\n",
    "    g7.set(ylabel='Purpose', xlabel='Count')\n",
    "    g7.savefig('pur_his.png')"
   ]
  },
  {
   "cell_type": "code",
   "execution_count": 29,
   "metadata": {},
   "outputs": [
    {
     "name": "stdout",
     "output_type": "stream",
     "text": [
      "0.5907453297858074\n",
      "0.2323494245412614\n"
     ]
    }
   ],
   "source": [
    "print(purpose.str.contains('debt_consolidation').sum() / len(purpose))\n",
    "print(purpose.str.contains('credit_card').sum() / len(purpose))"
   ]
  },
  {
   "cell_type": "markdown",
   "metadata": {},
   "source": [
    "* According to the above plot, debt consolidation and credit card are 2 major purposes, taking up 59.1% and 23.2% respectively."
   ]
  },
  {
   "cell_type": "markdown",
   "metadata": {},
   "source": [
    "# Feature 10 - Interest payment"
   ]
  },
  {
   "cell_type": "code",
   "execution_count": 30,
   "metadata": {},
   "outputs": [
    {
     "name": "stdout",
     "output_type": "stream",
     "text": [
      "0     Low\n",
      "1    High\n",
      "2    High\n",
      "3    High\n",
      "4     Low\n",
      "Name: interest_payments, dtype: object\n",
      "['Low' 'High']\n"
     ]
    }
   ],
   "source": [
    "# First 5 records\n",
    "interest_pay = data.iloc[:,17]\n",
    "print(interest_pay.head())\n",
    "\n",
    "# Unique values\n",
    "print(interest_pay.unique())"
   ]
  },
  {
   "cell_type": "markdown",
   "metadata": {},
   "source": [
    "* type 1 - Low, type 2 - High."
   ]
  },
  {
   "cell_type": "code",
   "execution_count": 31,
   "metadata": {},
   "outputs": [
    {
     "data": {
      "image/png": "[encoded data removed]",
      "text/plain": [
       "<Figure size 432x288 with 1 Axes>"
      ]
     },
     "metadata": {},
     "output_type": "display_data"
    }
   ],
   "source": [
    "# Pie chart\n",
    "labels2 =['Low', 'High']\n",
    "s3 = interest_pay.str.contains('Low').sum()/len(interest_pay)\n",
    "s4 = interest_pay.str.contains('High').sum()/len(interest_pay)\n",
    "sizes = [s3, s4]\n",
    "\n",
    "fig2, ax2 = plt.subplots()\n",
    "ax2.pie(sizes, labels=labels2, autopct='%1.1f%%', shadow=True,  textprops={'fontsize': 16})\n",
    "ax2.axis('equal')\n",
    "plt.savefig('int_pay_pie.png')"
   ]
  }
 ],
 "metadata": {
  "kernelspec": {
   "display_name": "Python 3",
   "language": "python",
   "name": "python3"
  },
  "language_info": {
   "codemirror_mode": {
    "name": "ipython",
    "version": 3
   },
   "file_extension": ".py",
   "mimetype": "text/x-python",
   "name": "python",
   "nbconvert_exporter": "python",
   "pygments_lexer": "ipython3",
   "version": "3.7.1"
  }
 },
 "nbformat": 4,
 "nbformat_minor": 2
}
