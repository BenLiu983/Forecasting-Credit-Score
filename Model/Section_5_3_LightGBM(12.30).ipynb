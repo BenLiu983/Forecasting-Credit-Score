{
  "nbformat": 4,
  "nbformat_minor": 0,
  "metadata": {
    "kernelspec": {
      "display_name": "Python 3",
      "language": "python",
      "name": "python3"
    },
    "language_info": {
      "codemirror_mode": {
        "name": "ipython",
        "version": 3
      },
      "file_extension": ".py",
      "mimetype": "text/x-python",
      "name": "python",
      "nbconvert_exporter": "python",
      "pygments_lexer": "ipython3",
      "version": "3.7.1"
    },
    "colab": {
      "name": "Section 5.2 Decision Tree(6.13).ipynb",
      "provenance": []
    }
  },
  "cells": [
    {
      "cell_type": "code",
      "metadata": {
        "id": "dx-lZzGyIWj3"
      },
      "source": [
        "import numpy as np\n",
        "import pandas as pd\n",
        "from datetime import datetime\n",
        "import seaborn as sns\n",
        "from sklearn.ensemble import BaggingClassifier\n",
        "from sklearn.tree import DecisionTreeClassifier\n",
        "from sklearn.model_selection import cross_validate\n",
        "from sklearn.model_selection import cross_val_score\n",
        "from sklearn.model_selection import RandomizedSearchCV\n",
        "from sklearn.preprocessing import MinMaxScaler\n",
        "from lightgbm import LGBMClassifier\n",
        "from lightgbm import plot_importance\n",
        "from sklearn.model_selection import train_test_split\n",
        "from sklearn import metrics\n",
        "import matplotlib.pyplot as plt\n",
        "sns.set(rc={'figure.figsize':(10,6)})"
      ],
      "execution_count": 1,
      "outputs": []
    },
    {
      "cell_type": "markdown",
      "metadata": {
        "id": "1HaKUfMUU81N"
      },
      "source": [
        "## 5.3.1 Import the data"
      ]
    },
    {
      "cell_type": "code",
      "metadata": {
        "colab": {
          "base_uri": "https://localhost:8080/",
          "height": 326
        },
        "id": "81B0eDePIWkB",
        "outputId": "73ae2a67-5f30-48ed-8784-2b4ce30aad2e"
      },
      "source": [
        "# Import the dataset\n",
        "df = pd.read_csv(\"/content/drive/MyDrive/Colab Notebooks/loan_final313.csv\")\n",
        "print(df.shape)\n",
        "df.head()"
      ],
      "execution_count": 2,
      "outputs": [
        {
          "output_type": "stream",
          "text": [
            "(887379, 30)\n"
          ],
          "name": "stdout"
        },
        {
          "output_type": "execute_result",
          "data": {
            "text/html": [
              "<div>\n",
              "<style scoped>\n",
              "    .dataframe tbody tr th:only-of-type {\n",
              "        vertical-align: middle;\n",
              "    }\n",
              "\n",
              "    .dataframe tbody tr th {\n",
              "        vertical-align: top;\n",
              "    }\n",
              "\n",
              "    .dataframe thead th {\n",
              "        text-align: right;\n",
              "    }\n",
              "</style>\n",
              "<table border=\"1\" class=\"dataframe\">\n",
              "  <thead>\n",
              "    <tr style=\"text-align: right;\">\n",
              "      <th></th>\n",
              "      <th>id</th>\n",
              "      <th>year</th>\n",
              "      <th>issue_d</th>\n",
              "      <th>final_d</th>\n",
              "      <th>emp_length_int</th>\n",
              "      <th>home_ownership</th>\n",
              "      <th>home_ownership_cat</th>\n",
              "      <th>income_category</th>\n",
              "      <th>annual_inc</th>\n",
              "      <th>income_cat</th>\n",
              "      <th>loan_amount</th>\n",
              "      <th>term</th>\n",
              "      <th>term_cat</th>\n",
              "      <th>application_type</th>\n",
              "      <th>application_type_cat</th>\n",
              "      <th>purpose</th>\n",
              "      <th>purpose_cat</th>\n",
              "      <th>interest_payments</th>\n",
              "      <th>interest_payment_cat</th>\n",
              "      <th>loan_condition</th>\n",
              "      <th>loan_condition_cat</th>\n",
              "      <th>interest_rate</th>\n",
              "      <th>grade</th>\n",
              "      <th>grade_cat</th>\n",
              "      <th>dti</th>\n",
              "      <th>total_pymnt</th>\n",
              "      <th>total_rec_prncp</th>\n",
              "      <th>recoveries</th>\n",
              "      <th>installment</th>\n",
              "      <th>region</th>\n",
              "    </tr>\n",
              "  </thead>\n",
              "  <tbody>\n",
              "    <tr>\n",
              "      <th>0</th>\n",
              "      <td>1077501</td>\n",
              "      <td>2011</td>\n",
              "      <td>01/12/2011</td>\n",
              "      <td>1012015</td>\n",
              "      <td>10.0</td>\n",
              "      <td>RENT</td>\n",
              "      <td>1</td>\n",
              "      <td>Low</td>\n",
              "      <td>24000</td>\n",
              "      <td>1</td>\n",
              "      <td>5000</td>\n",
              "      <td>36 months</td>\n",
              "      <td>1</td>\n",
              "      <td>INDIVIDUAL</td>\n",
              "      <td>1</td>\n",
              "      <td>credit_card</td>\n",
              "      <td>1</td>\n",
              "      <td>Low</td>\n",
              "      <td>1</td>\n",
              "      <td>Good Loan</td>\n",
              "      <td>0</td>\n",
              "      <td>10.65</td>\n",
              "      <td>B</td>\n",
              "      <td>2</td>\n",
              "      <td>27.65</td>\n",
              "      <td>5861.071414</td>\n",
              "      <td>5000.00</td>\n",
              "      <td>0.00</td>\n",
              "      <td>162.87</td>\n",
              "      <td>munster</td>\n",
              "    </tr>\n",
              "    <tr>\n",
              "      <th>1</th>\n",
              "      <td>1077430</td>\n",
              "      <td>2011</td>\n",
              "      <td>01/12/2011</td>\n",
              "      <td>1042013</td>\n",
              "      <td>0.5</td>\n",
              "      <td>RENT</td>\n",
              "      <td>1</td>\n",
              "      <td>Low</td>\n",
              "      <td>30000</td>\n",
              "      <td>1</td>\n",
              "      <td>2500</td>\n",
              "      <td>60 months</td>\n",
              "      <td>2</td>\n",
              "      <td>INDIVIDUAL</td>\n",
              "      <td>1</td>\n",
              "      <td>car</td>\n",
              "      <td>2</td>\n",
              "      <td>High</td>\n",
              "      <td>2</td>\n",
              "      <td>Bad Loan</td>\n",
              "      <td>1</td>\n",
              "      <td>15.27</td>\n",
              "      <td>C</td>\n",
              "      <td>3</td>\n",
              "      <td>1.00</td>\n",
              "      <td>1008.710000</td>\n",
              "      <td>456.46</td>\n",
              "      <td>117.08</td>\n",
              "      <td>59.83</td>\n",
              "      <td>leinster</td>\n",
              "    </tr>\n",
              "    <tr>\n",
              "      <th>2</th>\n",
              "      <td>1077175</td>\n",
              "      <td>2011</td>\n",
              "      <td>01/12/2011</td>\n",
              "      <td>1062014</td>\n",
              "      <td>10.0</td>\n",
              "      <td>RENT</td>\n",
              "      <td>1</td>\n",
              "      <td>Low</td>\n",
              "      <td>12252</td>\n",
              "      <td>1</td>\n",
              "      <td>2400</td>\n",
              "      <td>36 months</td>\n",
              "      <td>1</td>\n",
              "      <td>INDIVIDUAL</td>\n",
              "      <td>1</td>\n",
              "      <td>small_business</td>\n",
              "      <td>3</td>\n",
              "      <td>High</td>\n",
              "      <td>2</td>\n",
              "      <td>Good Loan</td>\n",
              "      <td>0</td>\n",
              "      <td>15.96</td>\n",
              "      <td>C</td>\n",
              "      <td>3</td>\n",
              "      <td>8.72</td>\n",
              "      <td>3003.653644</td>\n",
              "      <td>2400.00</td>\n",
              "      <td>0.00</td>\n",
              "      <td>84.33</td>\n",
              "      <td>cannught</td>\n",
              "    </tr>\n",
              "    <tr>\n",
              "      <th>3</th>\n",
              "      <td>1076863</td>\n",
              "      <td>2011</td>\n",
              "      <td>01/12/2011</td>\n",
              "      <td>1012015</td>\n",
              "      <td>10.0</td>\n",
              "      <td>RENT</td>\n",
              "      <td>1</td>\n",
              "      <td>Low</td>\n",
              "      <td>49200</td>\n",
              "      <td>1</td>\n",
              "      <td>10000</td>\n",
              "      <td>36 months</td>\n",
              "      <td>1</td>\n",
              "      <td>INDIVIDUAL</td>\n",
              "      <td>1</td>\n",
              "      <td>other</td>\n",
              "      <td>4</td>\n",
              "      <td>High</td>\n",
              "      <td>2</td>\n",
              "      <td>Good Loan</td>\n",
              "      <td>0</td>\n",
              "      <td>13.49</td>\n",
              "      <td>C</td>\n",
              "      <td>3</td>\n",
              "      <td>20.00</td>\n",
              "      <td>12226.302210</td>\n",
              "      <td>10000.00</td>\n",
              "      <td>0.00</td>\n",
              "      <td>339.31</td>\n",
              "      <td>ulster</td>\n",
              "    </tr>\n",
              "    <tr>\n",
              "      <th>4</th>\n",
              "      <td>1075358</td>\n",
              "      <td>2011</td>\n",
              "      <td>01/12/2011</td>\n",
              "      <td>1012016</td>\n",
              "      <td>1.0</td>\n",
              "      <td>RENT</td>\n",
              "      <td>1</td>\n",
              "      <td>Low</td>\n",
              "      <td>80000</td>\n",
              "      <td>1</td>\n",
              "      <td>3000</td>\n",
              "      <td>60 months</td>\n",
              "      <td>2</td>\n",
              "      <td>INDIVIDUAL</td>\n",
              "      <td>1</td>\n",
              "      <td>other</td>\n",
              "      <td>4</td>\n",
              "      <td>Low</td>\n",
              "      <td>1</td>\n",
              "      <td>Good Loan</td>\n",
              "      <td>0</td>\n",
              "      <td>12.69</td>\n",
              "      <td>B</td>\n",
              "      <td>2</td>\n",
              "      <td>17.94</td>\n",
              "      <td>3242.170000</td>\n",
              "      <td>2233.10</td>\n",
              "      <td>0.00</td>\n",
              "      <td>67.79</td>\n",
              "      <td>ulster</td>\n",
              "    </tr>\n",
              "  </tbody>\n",
              "</table>\n",
              "</div>"
            ],
            "text/plain": [
              "        id  year     issue_d  ...  recoveries  installment    region\n",
              "0  1077501  2011  01/12/2011  ...        0.00       162.87   munster\n",
              "1  1077430  2011  01/12/2011  ...      117.08        59.83  leinster\n",
              "2  1077175  2011  01/12/2011  ...        0.00        84.33  cannught\n",
              "3  1076863  2011  01/12/2011  ...        0.00       339.31    ulster\n",
              "4  1075358  2011  01/12/2011  ...        0.00        67.79    ulster\n",
              "\n",
              "[5 rows x 30 columns]"
            ]
          },
          "metadata": {
            "tags": []
          },
          "execution_count": 2
        }
      ]
    },
    {
      "cell_type": "markdown",
      "metadata": {
        "id": "NmO8MVR4VfR4"
      },
      "source": [
        "## 5.3.2 Feature Engineering"
      ]
    },
    {
      "cell_type": "code",
      "metadata": {
        "colab": {
          "base_uri": "https://localhost:8080/",
          "height": 204
        },
        "id": "avUw-2sZIWkC",
        "outputId": "5ace34dd-02b2-49d0-a0bc-acf1e95a0a9e"
      },
      "source": [
        "# Choose 10 major features\n",
        "df0 = df.iloc[:, [8, 4, 21, 10, 12, 20, 6, 16, 18, 23]]\n",
        "display(df0.head())\n",
        "\n",
        "# Independent features X \n",
        "X1 = df0.iloc[:, :-1]\n",
        "\n",
        "# Response feature y\n",
        "y1 = df0.iloc[:, -1]"
      ],
      "execution_count": 3,
      "outputs": [
        {
          "output_type": "display_data",
          "data": {
            "text/html": [
              "<div>\n",
              "<style scoped>\n",
              "    .dataframe tbody tr th:only-of-type {\n",
              "        vertical-align: middle;\n",
              "    }\n",
              "\n",
              "    .dataframe tbody tr th {\n",
              "        vertical-align: top;\n",
              "    }\n",
              "\n",
              "    .dataframe thead th {\n",
              "        text-align: right;\n",
              "    }\n",
              "</style>\n",
              "<table border=\"1\" class=\"dataframe\">\n",
              "  <thead>\n",
              "    <tr style=\"text-align: right;\">\n",
              "      <th></th>\n",
              "      <th>annual_inc</th>\n",
              "      <th>emp_length_int</th>\n",
              "      <th>interest_rate</th>\n",
              "      <th>loan_amount</th>\n",
              "      <th>term_cat</th>\n",
              "      <th>loan_condition_cat</th>\n",
              "      <th>home_ownership_cat</th>\n",
              "      <th>purpose_cat</th>\n",
              "      <th>interest_payment_cat</th>\n",
              "      <th>grade_cat</th>\n",
              "    </tr>\n",
              "  </thead>\n",
              "  <tbody>\n",
              "    <tr>\n",
              "      <th>0</th>\n",
              "      <td>24000</td>\n",
              "      <td>10.0</td>\n",
              "      <td>10.65</td>\n",
              "      <td>5000</td>\n",
              "      <td>1</td>\n",
              "      <td>0</td>\n",
              "      <td>1</td>\n",
              "      <td>1</td>\n",
              "      <td>1</td>\n",
              "      <td>2</td>\n",
              "    </tr>\n",
              "    <tr>\n",
              "      <th>1</th>\n",
              "      <td>30000</td>\n",
              "      <td>0.5</td>\n",
              "      <td>15.27</td>\n",
              "      <td>2500</td>\n",
              "      <td>2</td>\n",
              "      <td>1</td>\n",
              "      <td>1</td>\n",
              "      <td>2</td>\n",
              "      <td>2</td>\n",
              "      <td>3</td>\n",
              "    </tr>\n",
              "    <tr>\n",
              "      <th>2</th>\n",
              "      <td>12252</td>\n",
              "      <td>10.0</td>\n",
              "      <td>15.96</td>\n",
              "      <td>2400</td>\n",
              "      <td>1</td>\n",
              "      <td>0</td>\n",
              "      <td>1</td>\n",
              "      <td>3</td>\n",
              "      <td>2</td>\n",
              "      <td>3</td>\n",
              "    </tr>\n",
              "    <tr>\n",
              "      <th>3</th>\n",
              "      <td>49200</td>\n",
              "      <td>10.0</td>\n",
              "      <td>13.49</td>\n",
              "      <td>10000</td>\n",
              "      <td>1</td>\n",
              "      <td>0</td>\n",
              "      <td>1</td>\n",
              "      <td>4</td>\n",
              "      <td>2</td>\n",
              "      <td>3</td>\n",
              "    </tr>\n",
              "    <tr>\n",
              "      <th>4</th>\n",
              "      <td>80000</td>\n",
              "      <td>1.0</td>\n",
              "      <td>12.69</td>\n",
              "      <td>3000</td>\n",
              "      <td>2</td>\n",
              "      <td>0</td>\n",
              "      <td>1</td>\n",
              "      <td>4</td>\n",
              "      <td>1</td>\n",
              "      <td>2</td>\n",
              "    </tr>\n",
              "  </tbody>\n",
              "</table>\n",
              "</div>"
            ],
            "text/plain": [
              "   annual_inc  emp_length_int  ...  interest_payment_cat  grade_cat\n",
              "0       24000            10.0  ...                     1          2\n",
              "1       30000             0.5  ...                     2          3\n",
              "2       12252            10.0  ...                     2          3\n",
              "3       49200            10.0  ...                     2          3\n",
              "4       80000             1.0  ...                     1          2\n",
              "\n",
              "[5 rows x 10 columns]"
            ]
          },
          "metadata": {
            "tags": []
          }
        }
      ]
    },
    {
      "cell_type": "markdown",
      "metadata": {
        "id": "oIv7Kw9pVlPn"
      },
      "source": [
        "# 5.3.3 Normalization"
      ]
    },
    {
      "cell_type": "code",
      "metadata": {
        "colab": {
          "base_uri": "https://localhost:8080/",
          "height": 204
        },
        "id": "dGL1R0GvUdmF",
        "outputId": "1caba7d5-7af1-48cb-ce44-a67a986e558e"
      },
      "source": [
        "# Min-max scaling\r\n",
        "X1_scale = pd.DataFrame(MinMaxScaler().fit_transform(X1))\r\n",
        "X1_scale.columns = X1.columns\r\n",
        "X1_scale.head()"
      ],
      "execution_count": 4,
      "outputs": [
        {
          "output_type": "execute_result",
          "data": {
            "text/html": [
              "<div>\n",
              "<style scoped>\n",
              "    .dataframe tbody tr th:only-of-type {\n",
              "        vertical-align: middle;\n",
              "    }\n",
              "\n",
              "    .dataframe tbody tr th {\n",
              "        vertical-align: top;\n",
              "    }\n",
              "\n",
              "    .dataframe thead th {\n",
              "        text-align: right;\n",
              "    }\n",
              "</style>\n",
              "<table border=\"1\" class=\"dataframe\">\n",
              "  <thead>\n",
              "    <tr style=\"text-align: right;\">\n",
              "      <th></th>\n",
              "      <th>annual_inc</th>\n",
              "      <th>emp_length_int</th>\n",
              "      <th>interest_rate</th>\n",
              "      <th>loan_amount</th>\n",
              "      <th>term_cat</th>\n",
              "      <th>loan_condition_cat</th>\n",
              "      <th>home_ownership_cat</th>\n",
              "      <th>purpose_cat</th>\n",
              "      <th>interest_payment_cat</th>\n",
              "    </tr>\n",
              "  </thead>\n",
              "  <tbody>\n",
              "    <tr>\n",
              "      <th>0</th>\n",
              "      <td>0.002526</td>\n",
              "      <td>1.000000</td>\n",
              "      <td>0.225180</td>\n",
              "      <td>0.130435</td>\n",
              "      <td>0.0</td>\n",
              "      <td>0.0</td>\n",
              "      <td>0.0</td>\n",
              "      <td>0.000000</td>\n",
              "      <td>0.0</td>\n",
              "    </tr>\n",
              "    <tr>\n",
              "      <th>1</th>\n",
              "      <td>0.003158</td>\n",
              "      <td>0.000000</td>\n",
              "      <td>0.420363</td>\n",
              "      <td>0.057971</td>\n",
              "      <td>1.0</td>\n",
              "      <td>1.0</td>\n",
              "      <td>0.0</td>\n",
              "      <td>0.076923</td>\n",
              "      <td>1.0</td>\n",
              "    </tr>\n",
              "    <tr>\n",
              "      <th>2</th>\n",
              "      <td>0.001290</td>\n",
              "      <td>1.000000</td>\n",
              "      <td>0.449514</td>\n",
              "      <td>0.055072</td>\n",
              "      <td>0.0</td>\n",
              "      <td>0.0</td>\n",
              "      <td>0.0</td>\n",
              "      <td>0.153846</td>\n",
              "      <td>1.0</td>\n",
              "    </tr>\n",
              "    <tr>\n",
              "      <th>3</th>\n",
              "      <td>0.005179</td>\n",
              "      <td>1.000000</td>\n",
              "      <td>0.345163</td>\n",
              "      <td>0.275362</td>\n",
              "      <td>0.0</td>\n",
              "      <td>0.0</td>\n",
              "      <td>0.0</td>\n",
              "      <td>0.230769</td>\n",
              "      <td>1.0</td>\n",
              "    </tr>\n",
              "    <tr>\n",
              "      <th>4</th>\n",
              "      <td>0.008421</td>\n",
              "      <td>0.052632</td>\n",
              "      <td>0.311365</td>\n",
              "      <td>0.072464</td>\n",
              "      <td>1.0</td>\n",
              "      <td>0.0</td>\n",
              "      <td>0.0</td>\n",
              "      <td>0.230769</td>\n",
              "      <td>0.0</td>\n",
              "    </tr>\n",
              "  </tbody>\n",
              "</table>\n",
              "</div>"
            ],
            "text/plain": [
              "   annual_inc  emp_length_int  ...  purpose_cat  interest_payment_cat\n",
              "0    0.002526        1.000000  ...     0.000000                   0.0\n",
              "1    0.003158        0.000000  ...     0.076923                   1.0\n",
              "2    0.001290        1.000000  ...     0.153846                   1.0\n",
              "3    0.005179        1.000000  ...     0.230769                   1.0\n",
              "4    0.008421        0.052632  ...     0.230769                   0.0\n",
              "\n",
              "[5 rows x 9 columns]"
            ]
          },
          "metadata": {
            "tags": []
          },
          "execution_count": 4
        }
      ]
    },
    {
      "cell_type": "markdown",
      "metadata": {
        "id": "KHMz_E-iV4P7"
      },
      "source": [
        "## 5.3.4 Modeling"
      ]
    },
    {
      "cell_type": "code",
      "metadata": {
        "id": "5PGiqIHZIWkD"
      },
      "source": [
        "# Split to training and test set\n",
        "X_train, X_test, y_train, y_test = train_test_split(X1_scale,\n",
        "                                                    y1,\n",
        "                                                    stratify = y1,\n",
        "                                                    test_size = 0.1,\n",
        "                                                    random_state = 0)\n"
      ],
      "execution_count": 5,
      "outputs": []
    },
    {
      "cell_type": "code",
      "metadata": {
        "colab": {
          "base_uri": "https://localhost:8080/"
        },
        "id": "6KPt9HJ1IWkD",
        "outputId": "2dd1649d-f586-4e82-ec94-d712232ae9c9"
      },
      "source": [
        "# Fit the model\n",
        "start = datetime.now()\n",
        "lgb_clf = LGBMClassifier(n_estimators = 200, \n",
        "                         learning_rate = 0.1\n",
        "                         )\n",
        "\n",
        "lgb_clf.fit(X_train, y_train)\n",
        "\n",
        "# Predict \n",
        "y_pred = lgb_clf.predict(X_test)\n",
        "\n",
        "# Accuracy\n",
        "print(\"accuracy: \", metrics.accuracy_score(y_test, y_pred))\n",
        "print(datetime.now()-start)"
      ],
      "execution_count": 6,
      "outputs": [
        {
          "output_type": "stream",
          "text": [
            "accuracy:  0.9490635353512588\n",
            "0:01:38.582680\n"
          ],
          "name": "stdout"
        }
      ]
    },
    {
      "cell_type": "markdown",
      "metadata": {
        "id": "FKiaZk1PV-cn"
      },
      "source": [
        "# 5.3.5 Hyperparameter tuning"
      ]
    },
    {
      "cell_type": "code",
      "metadata": {
        "colab": {
          "base_uri": "https://localhost:8080/"
        },
        "id": "65nf0SzhLv2q",
        "outputId": "c4e3a0cb-eb42-42fd-ba3d-e00693580938"
      },
      "source": [
        "# Grid search\r\n",
        "lgb_clf = LGBMClassifier()\r\n",
        "\r\n",
        "lgb_param_grid = {'learning_rate': np.arange(0.05, 0.15, 0.05),\r\n",
        "                  'n_estimators': np.arange(200, 600, 200)\r\n",
        "                  }\r\n",
        "\r\n",
        "random_lgb = RandomizedSearchCV(estimator=lgb_clf, \r\n",
        "                                    param_distributions=lgb_param_grid,\r\n",
        "                                    n_iter=100, \r\n",
        "                                    scoring='accuracy', \r\n",
        "                                    cv=2, \r\n",
        "                                    verbose=1,\r\n",
        "                                    n_jobs=-1\r\n",
        "                                    )\r\n",
        "random_lgb.fit(X_train, y_train)\r\n",
        "print(\"Best parameters found: \",random_lgb.best_params_)"
      ],
      "execution_count": 7,
      "outputs": [
        {
          "output_type": "stream",
          "text": [
            "Fitting 2 folds for each of 4 candidates, totalling 8 fits\n"
          ],
          "name": "stdout"
        },
        {
          "output_type": "stream",
          "text": [
            "/usr/local/lib/python3.6/dist-packages/sklearn/model_selection/_search.py:281: UserWarning: The total space of parameters 4 is smaller than n_iter=100. Running 4 iterations. For exhaustive searches, use GridSearchCV.\n",
            "  % (grid_size, self.n_iter, grid_size), UserWarning)\n",
            "[Parallel(n_jobs=-1)]: Using backend LokyBackend with 2 concurrent workers.\n",
            "[Parallel(n_jobs=-1)]: Done   8 out of   8 | elapsed: 12.9min finished\n"
          ],
          "name": "stderr"
        },
        {
          "output_type": "stream",
          "text": [
            "Best parameters found:  {'n_estimators': 400, 'learning_rate': 0.1}\n"
          ],
          "name": "stdout"
        }
      ]
    },
    {
      "cell_type": "code",
      "metadata": {
        "colab": {
          "base_uri": "https://localhost:8080/"
        },
        "id": "rtC2RdtrSvji",
        "outputId": "73318dfc-00c4-4449-f35a-15d6987d83e2"
      },
      "source": [
        "# Use the best parameter to caculate accuracy\r\n",
        "lgb_clf = LGBMClassifier(n_estimators = 400, \r\n",
        "                         learning_rate = 0.1\r\n",
        "                         )\r\n",
        "lgb_clf.fit(X_train, y_train)\r\n",
        "\r\n",
        "# Predict \r\n",
        "y_pred = lgb_clf.predict(X_test)\r\n",
        "\r\n",
        "# Accuracy\r\n",
        "print(\"accuracy: \", metrics.accuracy_score(y_test, y_pred))"
      ],
      "execution_count": 8,
      "outputs": [
        {
          "output_type": "stream",
          "text": [
            "accuracy:  0.9492889179382001\n"
          ],
          "name": "stdout"
        }
      ]
    },
    {
      "cell_type": "markdown",
      "metadata": {
        "id": "fe_Hz8YdIWkJ"
      },
      "source": [
        "## 5.3.6 Feature importance"
      ]
    },
    {
      "cell_type": "code",
      "metadata": {
        "colab": {
          "base_uri": "https://localhost:8080/",
          "height": 535
        },
        "id": "_HZPamboIWkJ",
        "outputId": "54ce0720-9bc6-447e-c6d6-c5733fdf51a8"
      },
      "source": [
        "sns.set(rc={'figure.figsize':(12,8)})\n",
        "plot_importance(lgb_clf)"
      ],
      "execution_count": 9,
      "outputs": [
        {
          "output_type": "execute_result",
          "data": {
            "text/plain": [
              "<matplotlib.axes._subplots.AxesSubplot at 0x7f0e6c9bbba8>"
            ]
          },
          "metadata": {
            "tags": []
          },
          "execution_count": 9
        },
        {
          "output_type": "display_data",
          "data": {
            "image/png": "[encoded data removed]",
            "text/plain": [
              "<Figure size 864x576 with 1 Axes>"
            ]
          },
          "metadata": {
            "tags": []
          }
        }
      ]
    }
  ]
}