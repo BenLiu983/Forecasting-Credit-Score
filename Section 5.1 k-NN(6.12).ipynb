{
 "cells": [
  {
   "cell_type": "code",
   "execution_count": 1,
   "metadata": {},
   "outputs": [],
   "source": [
    "import pandas as pd\n",
    "import numpy as np\n",
    "import matplotlib.pyplot as plt\n",
    "from sklearn.preprocessing import StandardScaler\n",
    "from sklearn.preprocessing import MinMaxScaler\n",
    "from sklearn.preprocessing import RobustScaler\n",
    "from sklearn.decomposition import PCA\n",
    "from sklearn import metrics\n",
    "from sklearn.model_selection import train_test_split\n",
    "from sklearn.neighbors import KNeighborsClassifier\n",
    "from datetime import datetime\n",
    "%matplotlib inline"
   ]
  },
  {
   "cell_type": "code",
   "execution_count": 2,
   "metadata": {
    "scrolled": true
   },
   "outputs": [
    {
     "data": {
      "text/html": [
       "<div>\n",
       "<style scoped>\n",
       "    .dataframe tbody tr th:only-of-type {\n",
       "        vertical-align: middle;\n",
       "    }\n",
       "\n",
       "    .dataframe tbody tr th {\n",
       "        vertical-align: top;\n",
       "    }\n",
       "\n",
       "    .dataframe thead th {\n",
       "        text-align: right;\n",
       "    }\n",
       "</style>\n",
       "<table border=\"1\" class=\"dataframe\">\n",
       "  <thead>\n",
       "    <tr style=\"text-align: right;\">\n",
       "      <th></th>\n",
       "      <th>id</th>\n",
       "      <th>year</th>\n",
       "      <th>issue_d</th>\n",
       "      <th>final_d</th>\n",
       "      <th>emp_length_int</th>\n",
       "      <th>home_ownership</th>\n",
       "      <th>home_ownership_cat</th>\n",
       "      <th>income_category</th>\n",
       "      <th>annual_inc</th>\n",
       "      <th>income_cat</th>\n",
       "      <th>...</th>\n",
       "      <th>loan_condition_cat</th>\n",
       "      <th>interest_rate</th>\n",
       "      <th>grade</th>\n",
       "      <th>grade_cat</th>\n",
       "      <th>dti</th>\n",
       "      <th>total_pymnt</th>\n",
       "      <th>total_rec_prncp</th>\n",
       "      <th>recoveries</th>\n",
       "      <th>installment</th>\n",
       "      <th>region</th>\n",
       "    </tr>\n",
       "  </thead>\n",
       "  <tbody>\n",
       "    <tr>\n",
       "      <th>0</th>\n",
       "      <td>1077501</td>\n",
       "      <td>2011</td>\n",
       "      <td>01/12/2011</td>\n",
       "      <td>1012015</td>\n",
       "      <td>10.0</td>\n",
       "      <td>RENT</td>\n",
       "      <td>1</td>\n",
       "      <td>Low</td>\n",
       "      <td>24000</td>\n",
       "      <td>1</td>\n",
       "      <td>...</td>\n",
       "      <td>0</td>\n",
       "      <td>10.65</td>\n",
       "      <td>B</td>\n",
       "      <td>2</td>\n",
       "      <td>27.65</td>\n",
       "      <td>5861.071414</td>\n",
       "      <td>5000.00</td>\n",
       "      <td>0.00</td>\n",
       "      <td>162.87</td>\n",
       "      <td>munster</td>\n",
       "    </tr>\n",
       "    <tr>\n",
       "      <th>1</th>\n",
       "      <td>1077430</td>\n",
       "      <td>2011</td>\n",
       "      <td>01/12/2011</td>\n",
       "      <td>1042013</td>\n",
       "      <td>0.5</td>\n",
       "      <td>RENT</td>\n",
       "      <td>1</td>\n",
       "      <td>Low</td>\n",
       "      <td>30000</td>\n",
       "      <td>1</td>\n",
       "      <td>...</td>\n",
       "      <td>1</td>\n",
       "      <td>15.27</td>\n",
       "      <td>C</td>\n",
       "      <td>3</td>\n",
       "      <td>1.00</td>\n",
       "      <td>1008.710000</td>\n",
       "      <td>456.46</td>\n",
       "      <td>117.08</td>\n",
       "      <td>59.83</td>\n",
       "      <td>leinster</td>\n",
       "    </tr>\n",
       "    <tr>\n",
       "      <th>2</th>\n",
       "      <td>1077175</td>\n",
       "      <td>2011</td>\n",
       "      <td>01/12/2011</td>\n",
       "      <td>1062014</td>\n",
       "      <td>10.0</td>\n",
       "      <td>RENT</td>\n",
       "      <td>1</td>\n",
       "      <td>Low</td>\n",
       "      <td>12252</td>\n",
       "      <td>1</td>\n",
       "      <td>...</td>\n",
       "      <td>0</td>\n",
       "      <td>15.96</td>\n",
       "      <td>C</td>\n",
       "      <td>3</td>\n",
       "      <td>8.72</td>\n",
       "      <td>3003.653644</td>\n",
       "      <td>2400.00</td>\n",
       "      <td>0.00</td>\n",
       "      <td>84.33</td>\n",
       "      <td>cannught</td>\n",
       "    </tr>\n",
       "    <tr>\n",
       "      <th>3</th>\n",
       "      <td>1076863</td>\n",
       "      <td>2011</td>\n",
       "      <td>01/12/2011</td>\n",
       "      <td>1012015</td>\n",
       "      <td>10.0</td>\n",
       "      <td>RENT</td>\n",
       "      <td>1</td>\n",
       "      <td>Low</td>\n",
       "      <td>49200</td>\n",
       "      <td>1</td>\n",
       "      <td>...</td>\n",
       "      <td>0</td>\n",
       "      <td>13.49</td>\n",
       "      <td>C</td>\n",
       "      <td>3</td>\n",
       "      <td>20.00</td>\n",
       "      <td>12226.302210</td>\n",
       "      <td>10000.00</td>\n",
       "      <td>0.00</td>\n",
       "      <td>339.31</td>\n",
       "      <td>ulster</td>\n",
       "    </tr>\n",
       "    <tr>\n",
       "      <th>4</th>\n",
       "      <td>1075358</td>\n",
       "      <td>2011</td>\n",
       "      <td>01/12/2011</td>\n",
       "      <td>1012016</td>\n",
       "      <td>1.0</td>\n",
       "      <td>RENT</td>\n",
       "      <td>1</td>\n",
       "      <td>Low</td>\n",
       "      <td>80000</td>\n",
       "      <td>1</td>\n",
       "      <td>...</td>\n",
       "      <td>0</td>\n",
       "      <td>12.69</td>\n",
       "      <td>B</td>\n",
       "      <td>2</td>\n",
       "      <td>17.94</td>\n",
       "      <td>3242.170000</td>\n",
       "      <td>2233.10</td>\n",
       "      <td>0.00</td>\n",
       "      <td>67.79</td>\n",
       "      <td>ulster</td>\n",
       "    </tr>\n",
       "  </tbody>\n",
       "</table>\n",
       "<p>5 rows × 30 columns</p>\n",
       "</div>"
      ],
      "text/plain": [
       "        id  year     issue_d  final_d  emp_length_int home_ownership  \\\n",
       "0  1077501  2011  01/12/2011  1012015            10.0           RENT   \n",
       "1  1077430  2011  01/12/2011  1042013             0.5           RENT   \n",
       "2  1077175  2011  01/12/2011  1062014            10.0           RENT   \n",
       "3  1076863  2011  01/12/2011  1012015            10.0           RENT   \n",
       "4  1075358  2011  01/12/2011  1012016             1.0           RENT   \n",
       "\n",
       "   home_ownership_cat income_category  annual_inc  income_cat    ...     \\\n",
       "0                   1             Low       24000           1    ...      \n",
       "1                   1             Low       30000           1    ...      \n",
       "2                   1             Low       12252           1    ...      \n",
       "3                   1             Low       49200           1    ...      \n",
       "4                   1             Low       80000           1    ...      \n",
       "\n",
       "   loan_condition_cat interest_rate  grade grade_cat    dti   total_pymnt  \\\n",
       "0                   0         10.65      B         2  27.65   5861.071414   \n",
       "1                   1         15.27      C         3   1.00   1008.710000   \n",
       "2                   0         15.96      C         3   8.72   3003.653644   \n",
       "3                   0         13.49      C         3  20.00  12226.302210   \n",
       "4                   0         12.69      B         2  17.94   3242.170000   \n",
       "\n",
       "   total_rec_prncp recoveries  installment    region  \n",
       "0          5000.00       0.00       162.87   munster  \n",
       "1           456.46     117.08        59.83  leinster  \n",
       "2          2400.00       0.00        84.33  cannught  \n",
       "3         10000.00       0.00       339.31    ulster  \n",
       "4          2233.10       0.00        67.79    ulster  \n",
       "\n",
       "[5 rows x 30 columns]"
      ]
     },
     "metadata": {},
     "output_type": "display_data"
    },
    {
     "data": {
      "text/plain": [
       "(887379, 30)"
      ]
     },
     "metadata": {},
     "output_type": "display_data"
    }
   ],
   "source": [
    "# Import datset\n",
    "df = pd.read_csv(\"loan_final313.csv\")\n",
    "display(df.head())\n",
    "display(df.shape)"
   ]
  },
  {
   "cell_type": "code",
   "execution_count": 3,
   "metadata": {
    "scrolled": false
   },
   "outputs": [
    {
     "data": {
      "text/html": [
       "<div>\n",
       "<style scoped>\n",
       "    .dataframe tbody tr th:only-of-type {\n",
       "        vertical-align: middle;\n",
       "    }\n",
       "\n",
       "    .dataframe tbody tr th {\n",
       "        vertical-align: top;\n",
       "    }\n",
       "\n",
       "    .dataframe thead th {\n",
       "        text-align: right;\n",
       "    }\n",
       "</style>\n",
       "<table border=\"1\" class=\"dataframe\">\n",
       "  <thead>\n",
       "    <tr style=\"text-align: right;\">\n",
       "      <th></th>\n",
       "      <th>annual_inc</th>\n",
       "      <th>emp_length_int</th>\n",
       "      <th>interest_rate</th>\n",
       "      <th>loan_amount</th>\n",
       "      <th>term_cat</th>\n",
       "      <th>loan_condition_cat</th>\n",
       "      <th>home_ownership_cat</th>\n",
       "      <th>purpose_cat</th>\n",
       "      <th>interest_payment_cat</th>\n",
       "      <th>grade_cat</th>\n",
       "    </tr>\n",
       "  </thead>\n",
       "  <tbody>\n",
       "    <tr>\n",
       "      <th>0</th>\n",
       "      <td>24000</td>\n",
       "      <td>10.0</td>\n",
       "      <td>10.65</td>\n",
       "      <td>5000</td>\n",
       "      <td>1</td>\n",
       "      <td>0</td>\n",
       "      <td>1</td>\n",
       "      <td>1</td>\n",
       "      <td>1</td>\n",
       "      <td>2</td>\n",
       "    </tr>\n",
       "    <tr>\n",
       "      <th>1</th>\n",
       "      <td>30000</td>\n",
       "      <td>0.5</td>\n",
       "      <td>15.27</td>\n",
       "      <td>2500</td>\n",
       "      <td>2</td>\n",
       "      <td>1</td>\n",
       "      <td>1</td>\n",
       "      <td>2</td>\n",
       "      <td>2</td>\n",
       "      <td>3</td>\n",
       "    </tr>\n",
       "    <tr>\n",
       "      <th>2</th>\n",
       "      <td>12252</td>\n",
       "      <td>10.0</td>\n",
       "      <td>15.96</td>\n",
       "      <td>2400</td>\n",
       "      <td>1</td>\n",
       "      <td>0</td>\n",
       "      <td>1</td>\n",
       "      <td>3</td>\n",
       "      <td>2</td>\n",
       "      <td>3</td>\n",
       "    </tr>\n",
       "    <tr>\n",
       "      <th>3</th>\n",
       "      <td>49200</td>\n",
       "      <td>10.0</td>\n",
       "      <td>13.49</td>\n",
       "      <td>10000</td>\n",
       "      <td>1</td>\n",
       "      <td>0</td>\n",
       "      <td>1</td>\n",
       "      <td>4</td>\n",
       "      <td>2</td>\n",
       "      <td>3</td>\n",
       "    </tr>\n",
       "    <tr>\n",
       "      <th>4</th>\n",
       "      <td>80000</td>\n",
       "      <td>1.0</td>\n",
       "      <td>12.69</td>\n",
       "      <td>3000</td>\n",
       "      <td>2</td>\n",
       "      <td>0</td>\n",
       "      <td>1</td>\n",
       "      <td>4</td>\n",
       "      <td>1</td>\n",
       "      <td>2</td>\n",
       "    </tr>\n",
       "  </tbody>\n",
       "</table>\n",
       "</div>"
      ],
      "text/plain": [
       "   annual_inc  emp_length_int  interest_rate  loan_amount  term_cat  \\\n",
       "0       24000            10.0          10.65         5000         1   \n",
       "1       30000             0.5          15.27         2500         2   \n",
       "2       12252            10.0          15.96         2400         1   \n",
       "3       49200            10.0          13.49        10000         1   \n",
       "4       80000             1.0          12.69         3000         2   \n",
       "\n",
       "   loan_condition_cat  home_ownership_cat  purpose_cat  interest_payment_cat  \\\n",
       "0                   0                   1            1                     1   \n",
       "1                   1                   1            2                     2   \n",
       "2                   0                   1            3                     2   \n",
       "3                   0                   1            4                     2   \n",
       "4                   0                   1            4                     1   \n",
       "\n",
       "   grade_cat  \n",
       "0          2  \n",
       "1          3  \n",
       "2          3  \n",
       "3          3  \n",
       "4          2  "
      ]
     },
     "metadata": {},
     "output_type": "display_data"
    }
   ],
   "source": [
    "# Choose 10 major features\n",
    "df0 = df.iloc[:,[8, 4, 21, 10, 12, 20, 6, 16, 18, 23]]\n",
    "display(df0.head())"
   ]
  },
  {
   "cell_type": "code",
   "execution_count": 4,
   "metadata": {},
   "outputs": [
    {
     "data": {
      "text/html": [
       "<div>\n",
       "<style scoped>\n",
       "    .dataframe tbody tr th:only-of-type {\n",
       "        vertical-align: middle;\n",
       "    }\n",
       "\n",
       "    .dataframe tbody tr th {\n",
       "        vertical-align: top;\n",
       "    }\n",
       "\n",
       "    .dataframe thead th {\n",
       "        text-align: right;\n",
       "    }\n",
       "</style>\n",
       "<table border=\"1\" class=\"dataframe\">\n",
       "  <thead>\n",
       "    <tr style=\"text-align: right;\">\n",
       "      <th></th>\n",
       "      <th>annual_inc</th>\n",
       "      <th>emp_length_int</th>\n",
       "      <th>interest_rate</th>\n",
       "      <th>loan_amount</th>\n",
       "      <th>term_cat</th>\n",
       "      <th>loan_condition_cat</th>\n",
       "      <th>home_ownership_cat</th>\n",
       "      <th>purpose_cat</th>\n",
       "      <th>interest_payment_cat</th>\n",
       "    </tr>\n",
       "  </thead>\n",
       "  <tbody>\n",
       "    <tr>\n",
       "      <th>0</th>\n",
       "      <td>24000</td>\n",
       "      <td>10.0</td>\n",
       "      <td>10.65</td>\n",
       "      <td>5000</td>\n",
       "      <td>1</td>\n",
       "      <td>0</td>\n",
       "      <td>1</td>\n",
       "      <td>1</td>\n",
       "      <td>1</td>\n",
       "    </tr>\n",
       "    <tr>\n",
       "      <th>1</th>\n",
       "      <td>30000</td>\n",
       "      <td>0.5</td>\n",
       "      <td>15.27</td>\n",
       "      <td>2500</td>\n",
       "      <td>2</td>\n",
       "      <td>1</td>\n",
       "      <td>1</td>\n",
       "      <td>2</td>\n",
       "      <td>2</td>\n",
       "    </tr>\n",
       "    <tr>\n",
       "      <th>2</th>\n",
       "      <td>12252</td>\n",
       "      <td>10.0</td>\n",
       "      <td>15.96</td>\n",
       "      <td>2400</td>\n",
       "      <td>1</td>\n",
       "      <td>0</td>\n",
       "      <td>1</td>\n",
       "      <td>3</td>\n",
       "      <td>2</td>\n",
       "    </tr>\n",
       "    <tr>\n",
       "      <th>3</th>\n",
       "      <td>49200</td>\n",
       "      <td>10.0</td>\n",
       "      <td>13.49</td>\n",
       "      <td>10000</td>\n",
       "      <td>1</td>\n",
       "      <td>0</td>\n",
       "      <td>1</td>\n",
       "      <td>4</td>\n",
       "      <td>2</td>\n",
       "    </tr>\n",
       "    <tr>\n",
       "      <th>4</th>\n",
       "      <td>80000</td>\n",
       "      <td>1.0</td>\n",
       "      <td>12.69</td>\n",
       "      <td>3000</td>\n",
       "      <td>2</td>\n",
       "      <td>0</td>\n",
       "      <td>1</td>\n",
       "      <td>4</td>\n",
       "      <td>1</td>\n",
       "    </tr>\n",
       "  </tbody>\n",
       "</table>\n",
       "</div>"
      ],
      "text/plain": [
       "   annual_inc  emp_length_int  interest_rate  loan_amount  term_cat  \\\n",
       "0       24000            10.0          10.65         5000         1   \n",
       "1       30000             0.5          15.27         2500         2   \n",
       "2       12252            10.0          15.96         2400         1   \n",
       "3       49200            10.0          13.49        10000         1   \n",
       "4       80000             1.0          12.69         3000         2   \n",
       "\n",
       "   loan_condition_cat  home_ownership_cat  purpose_cat  interest_payment_cat  \n",
       "0                   0                   1            1                     1  \n",
       "1                   1                   1            2                     2  \n",
       "2                   0                   1            3                     2  \n",
       "3                   0                   1            4                     2  \n",
       "4                   0                   1            4                     1  "
      ]
     },
     "metadata": {},
     "output_type": "display_data"
    },
    {
     "data": {
      "text/plain": [
       "0    2\n",
       "1    3\n",
       "2    3\n",
       "3    3\n",
       "4    2\n",
       "Name: grade_cat, dtype: int64"
      ]
     },
     "metadata": {},
     "output_type": "display_data"
    }
   ],
   "source": [
    "# Construct X and y\n",
    "X1 = df0.iloc[:,:-1]\n",
    "display(X1.head())\n",
    "y1 = df0.iloc[:,-1]\n",
    "display(y1.head())"
   ]
  },
  {
   "cell_type": "markdown",
   "metadata": {},
   "source": [
    "# Section 5.1.1 - Different scaling methods"
   ]
  },
  {
   "cell_type": "code",
   "execution_count": 5,
   "metadata": {
    "scrolled": true
   },
   "outputs": [
    {
     "data": {
      "text/html": [
       "<div>\n",
       "<style scoped>\n",
       "    .dataframe tbody tr th:only-of-type {\n",
       "        vertical-align: middle;\n",
       "    }\n",
       "\n",
       "    .dataframe tbody tr th {\n",
       "        vertical-align: top;\n",
       "    }\n",
       "\n",
       "    .dataframe thead th {\n",
       "        text-align: right;\n",
       "    }\n",
       "</style>\n",
       "<table border=\"1\" class=\"dataframe\">\n",
       "  <thead>\n",
       "    <tr style=\"text-align: right;\">\n",
       "      <th></th>\n",
       "      <th>annual_inc</th>\n",
       "      <th>emp_length_int</th>\n",
       "      <th>interest_rate</th>\n",
       "      <th>loan_amount</th>\n",
       "      <th>term_cat</th>\n",
       "      <th>loan_condition_cat</th>\n",
       "      <th>home_ownership_cat</th>\n",
       "      <th>purpose_cat</th>\n",
       "      <th>interest_payment_cat</th>\n",
       "    </tr>\n",
       "  </thead>\n",
       "  <tbody>\n",
       "    <tr>\n",
       "      <th>0</th>\n",
       "      <td>0.002526</td>\n",
       "      <td>1.000000</td>\n",
       "      <td>0.225180</td>\n",
       "      <td>0.130435</td>\n",
       "      <td>0.0</td>\n",
       "      <td>0.0</td>\n",
       "      <td>0.0</td>\n",
       "      <td>0.000000</td>\n",
       "      <td>0.0</td>\n",
       "    </tr>\n",
       "    <tr>\n",
       "      <th>1</th>\n",
       "      <td>0.003158</td>\n",
       "      <td>0.000000</td>\n",
       "      <td>0.420363</td>\n",
       "      <td>0.057971</td>\n",
       "      <td>1.0</td>\n",
       "      <td>1.0</td>\n",
       "      <td>0.0</td>\n",
       "      <td>0.076923</td>\n",
       "      <td>1.0</td>\n",
       "    </tr>\n",
       "    <tr>\n",
       "      <th>2</th>\n",
       "      <td>0.001290</td>\n",
       "      <td>1.000000</td>\n",
       "      <td>0.449514</td>\n",
       "      <td>0.055072</td>\n",
       "      <td>0.0</td>\n",
       "      <td>0.0</td>\n",
       "      <td>0.0</td>\n",
       "      <td>0.153846</td>\n",
       "      <td>1.0</td>\n",
       "    </tr>\n",
       "    <tr>\n",
       "      <th>3</th>\n",
       "      <td>0.005179</td>\n",
       "      <td>1.000000</td>\n",
       "      <td>0.345163</td>\n",
       "      <td>0.275362</td>\n",
       "      <td>0.0</td>\n",
       "      <td>0.0</td>\n",
       "      <td>0.0</td>\n",
       "      <td>0.230769</td>\n",
       "      <td>1.0</td>\n",
       "    </tr>\n",
       "    <tr>\n",
       "      <th>4</th>\n",
       "      <td>0.008421</td>\n",
       "      <td>0.052632</td>\n",
       "      <td>0.311365</td>\n",
       "      <td>0.072464</td>\n",
       "      <td>1.0</td>\n",
       "      <td>0.0</td>\n",
       "      <td>0.0</td>\n",
       "      <td>0.230769</td>\n",
       "      <td>0.0</td>\n",
       "    </tr>\n",
       "  </tbody>\n",
       "</table>\n",
       "</div>"
      ],
      "text/plain": [
       "   annual_inc  emp_length_int  interest_rate  loan_amount  term_cat  \\\n",
       "0    0.002526        1.000000       0.225180     0.130435       0.0   \n",
       "1    0.003158        0.000000       0.420363     0.057971       1.0   \n",
       "2    0.001290        1.000000       0.449514     0.055072       0.0   \n",
       "3    0.005179        1.000000       0.345163     0.275362       0.0   \n",
       "4    0.008421        0.052632       0.311365     0.072464       1.0   \n",
       "\n",
       "   loan_condition_cat  home_ownership_cat  purpose_cat  interest_payment_cat  \n",
       "0                 0.0                 0.0     0.000000                   0.0  \n",
       "1                 1.0                 0.0     0.076923                   1.0  \n",
       "2                 0.0                 0.0     0.153846                   1.0  \n",
       "3                 0.0                 0.0     0.230769                   1.0  \n",
       "4                 0.0                 0.0     0.230769                   0.0  "
      ]
     },
     "metadata": {},
     "output_type": "display_data"
    }
   ],
   "source": [
    "# Min-max scaling\n",
    "X1_scale = MinMaxScaler().fit_transform(X1)\n",
    "display(pd.DataFrame(X1_scale, columns=X1.columns).head())"
   ]
  },
  {
   "cell_type": "code",
   "execution_count": 6,
   "metadata": {},
   "outputs": [
    {
     "name": "stdout",
     "output_type": "stream",
     "text": [
      "0:15:59.003329\n"
     ]
    },
    {
     "data": {
      "text/plain": [
       "0.8393653226351732"
      ]
     },
     "metadata": {},
     "output_type": "display_data"
    }
   ],
   "source": [
    "# Split dataset to the train and test set \n",
    "X_train, X_test, y_train, y_test = train_test_split(X1_scale, y1, random_state=0)\n",
    "# Create an instance\n",
    "knn = KNeighborsClassifier()\n",
    "# Apply KNN to the training set\n",
    "start=datetime.now()\n",
    "knn.fit(X_train, y_train)\n",
    "# Compare the predicted y and actual y\n",
    "y_pred = knn.predict(X_test)\n",
    "print (datetime.now()-start)\n",
    "display(metrics.accuracy_score(y_test, y_pred))"
   ]
  },
  {
   "cell_type": "markdown",
   "metadata": {},
   "source": [
    "* Since the computation cost is heavy, loop fucntion for various neighbors will be skipped."
   ]
  },
  {
   "cell_type": "code",
   "execution_count": 7,
   "metadata": {},
   "outputs": [
    {
     "data": {
      "text/html": [
       "<div>\n",
       "<style scoped>\n",
       "    .dataframe tbody tr th:only-of-type {\n",
       "        vertical-align: middle;\n",
       "    }\n",
       "\n",
       "    .dataframe tbody tr th {\n",
       "        vertical-align: top;\n",
       "    }\n",
       "\n",
       "    .dataframe thead th {\n",
       "        text-align: right;\n",
       "    }\n",
       "</style>\n",
       "<table border=\"1\" class=\"dataframe\">\n",
       "  <thead>\n",
       "    <tr style=\"text-align: right;\">\n",
       "      <th></th>\n",
       "      <th>annual_inc</th>\n",
       "      <th>emp_length_int</th>\n",
       "      <th>interest_rate</th>\n",
       "      <th>loan_amount</th>\n",
       "      <th>term_cat</th>\n",
       "      <th>loan_condition_cat</th>\n",
       "      <th>home_ownership_cat</th>\n",
       "      <th>purpose_cat</th>\n",
       "      <th>interest_payment_cat</th>\n",
       "    </tr>\n",
       "  </thead>\n",
       "  <tbody>\n",
       "    <tr>\n",
       "      <th>0</th>\n",
       "      <td>-0.788703</td>\n",
       "      <td>1.126029</td>\n",
       "      <td>-0.592611</td>\n",
       "      <td>-1.156460</td>\n",
       "      <td>-0.654724</td>\n",
       "      <td>-0.286767</td>\n",
       "      <td>-1.1633</td>\n",
       "      <td>-1.627203</td>\n",
       "      <td>-0.95239</td>\n",
       "    </tr>\n",
       "    <tr>\n",
       "      <th>1</th>\n",
       "      <td>-0.695964</td>\n",
       "      <td>-1.582528</td>\n",
       "      <td>0.461735</td>\n",
       "      <td>-1.452829</td>\n",
       "      <td>1.527360</td>\n",
       "      <td>3.487148</td>\n",
       "      <td>-1.1633</td>\n",
       "      <td>-1.207238</td>\n",
       "      <td>1.04999</td>\n",
       "    </tr>\n",
       "    <tr>\n",
       "      <th>2</th>\n",
       "      <td>-0.970285</td>\n",
       "      <td>1.126029</td>\n",
       "      <td>0.619202</td>\n",
       "      <td>-1.464683</td>\n",
       "      <td>-0.654724</td>\n",
       "      <td>-0.286767</td>\n",
       "      <td>-1.1633</td>\n",
       "      <td>-0.787274</td>\n",
       "      <td>1.04999</td>\n",
       "    </tr>\n",
       "    <tr>\n",
       "      <th>3</th>\n",
       "      <td>-0.399202</td>\n",
       "      <td>1.126029</td>\n",
       "      <td>0.055515</td>\n",
       "      <td>-0.563724</td>\n",
       "      <td>-0.654724</td>\n",
       "      <td>-0.286767</td>\n",
       "      <td>-1.1633</td>\n",
       "      <td>-0.367309</td>\n",
       "      <td>1.04999</td>\n",
       "    </tr>\n",
       "    <tr>\n",
       "      <th>4</th>\n",
       "      <td>0.076856</td>\n",
       "      <td>-1.439973</td>\n",
       "      <td>-0.127055</td>\n",
       "      <td>-1.393555</td>\n",
       "      <td>1.527360</td>\n",
       "      <td>-0.286767</td>\n",
       "      <td>-1.1633</td>\n",
       "      <td>-0.367309</td>\n",
       "      <td>-0.95239</td>\n",
       "    </tr>\n",
       "  </tbody>\n",
       "</table>\n",
       "</div>"
      ],
      "text/plain": [
       "   annual_inc  emp_length_int  interest_rate  loan_amount  term_cat  \\\n",
       "0   -0.788703        1.126029      -0.592611    -1.156460 -0.654724   \n",
       "1   -0.695964       -1.582528       0.461735    -1.452829  1.527360   \n",
       "2   -0.970285        1.126029       0.619202    -1.464683 -0.654724   \n",
       "3   -0.399202        1.126029       0.055515    -0.563724 -0.654724   \n",
       "4    0.076856       -1.439973      -0.127055    -1.393555  1.527360   \n",
       "\n",
       "   loan_condition_cat  home_ownership_cat  purpose_cat  interest_payment_cat  \n",
       "0           -0.286767             -1.1633    -1.627203              -0.95239  \n",
       "1            3.487148             -1.1633    -1.207238               1.04999  \n",
       "2           -0.286767             -1.1633    -0.787274               1.04999  \n",
       "3           -0.286767             -1.1633    -0.367309               1.04999  \n",
       "4           -0.286767             -1.1633    -0.367309              -0.95239  "
      ]
     },
     "metadata": {},
     "output_type": "display_data"
    }
   ],
   "source": [
    "# Standard scaling\n",
    "X1_scale2 = StandardScaler().fit_transform(X1)\n",
    "display(pd.DataFrame(X1_scale2, columns=X1.columns).head())"
   ]
  },
  {
   "cell_type": "code",
   "execution_count": 8,
   "metadata": {},
   "outputs": [
    {
     "name": "stdout",
     "output_type": "stream",
     "text": [
      "0:05:08.162368\n"
     ]
    },
    {
     "data": {
      "text/plain": [
       "0.8064459419865221"
      ]
     },
     "metadata": {},
     "output_type": "display_data"
    }
   ],
   "source": [
    "# Split dataset to the train and test set \n",
    "X_train, X_test, y_train, y_test = train_test_split(X1_scale2, y1, random_state=0)\n",
    "# Create an instance\n",
    "knn = KNeighborsClassifier()\n",
    "# Apply KNN to the training set\n",
    "start=datetime.now()\n",
    "knn.fit(X_train, y_train)\n",
    "# Compare the predicted y and actual y\n",
    "y_pred = knn.predict(X_test)\n",
    "print (datetime.now()-start)\n",
    "display(metrics.accuracy_score(y_test, y_pred))"
   ]
  },
  {
   "cell_type": "code",
   "execution_count": 9,
   "metadata": {},
   "outputs": [
    {
     "data": {
      "text/html": [
       "<div>\n",
       "<style scoped>\n",
       "    .dataframe tbody tr th:only-of-type {\n",
       "        vertical-align: middle;\n",
       "    }\n",
       "\n",
       "    .dataframe tbody tr th {\n",
       "        vertical-align: top;\n",
       "    }\n",
       "\n",
       "    .dataframe thead th {\n",
       "        text-align: right;\n",
       "    }\n",
       "</style>\n",
       "<table border=\"1\" class=\"dataframe\">\n",
       "  <thead>\n",
       "    <tr style=\"text-align: right;\">\n",
       "      <th></th>\n",
       "      <th>annual_inc</th>\n",
       "      <th>emp_length_int</th>\n",
       "      <th>interest_rate</th>\n",
       "      <th>loan_amount</th>\n",
       "      <th>term_cat</th>\n",
       "      <th>loan_condition_cat</th>\n",
       "      <th>home_ownership_cat</th>\n",
       "      <th>purpose_cat</th>\n",
       "      <th>interest_payment_cat</th>\n",
       "    </tr>\n",
       "  </thead>\n",
       "  <tbody>\n",
       "    <tr>\n",
       "      <th>0</th>\n",
       "      <td>-0.911111</td>\n",
       "      <td>0.564286</td>\n",
       "      <td>-0.376812</td>\n",
       "      <td>-0.666667</td>\n",
       "      <td>0.0</td>\n",
       "      <td>0.0</td>\n",
       "      <td>-1.0</td>\n",
       "      <td>-1.666667</td>\n",
       "      <td>0.0</td>\n",
       "    </tr>\n",
       "    <tr>\n",
       "      <th>1</th>\n",
       "      <td>-0.777778</td>\n",
       "      <td>-0.792857</td>\n",
       "      <td>0.367150</td>\n",
       "      <td>-0.875000</td>\n",
       "      <td>1.0</td>\n",
       "      <td>1.0</td>\n",
       "      <td>-1.0</td>\n",
       "      <td>-1.333333</td>\n",
       "      <td>1.0</td>\n",
       "    </tr>\n",
       "    <tr>\n",
       "      <th>2</th>\n",
       "      <td>-1.172178</td>\n",
       "      <td>0.564286</td>\n",
       "      <td>0.478261</td>\n",
       "      <td>-0.883333</td>\n",
       "      <td>0.0</td>\n",
       "      <td>0.0</td>\n",
       "      <td>-1.0</td>\n",
       "      <td>-1.000000</td>\n",
       "      <td>1.0</td>\n",
       "    </tr>\n",
       "    <tr>\n",
       "      <th>3</th>\n",
       "      <td>-0.351111</td>\n",
       "      <td>0.564286</td>\n",
       "      <td>0.080515</td>\n",
       "      <td>-0.250000</td>\n",
       "      <td>0.0</td>\n",
       "      <td>0.0</td>\n",
       "      <td>-1.0</td>\n",
       "      <td>-0.666667</td>\n",
       "      <td>1.0</td>\n",
       "    </tr>\n",
       "    <tr>\n",
       "      <th>4</th>\n",
       "      <td>0.333333</td>\n",
       "      <td>-0.721429</td>\n",
       "      <td>-0.048309</td>\n",
       "      <td>-0.833333</td>\n",
       "      <td>1.0</td>\n",
       "      <td>0.0</td>\n",
       "      <td>-1.0</td>\n",
       "      <td>-0.666667</td>\n",
       "      <td>0.0</td>\n",
       "    </tr>\n",
       "  </tbody>\n",
       "</table>\n",
       "</div>"
      ],
      "text/plain": [
       "   annual_inc  emp_length_int  interest_rate  loan_amount  term_cat  \\\n",
       "0   -0.911111        0.564286      -0.376812    -0.666667       0.0   \n",
       "1   -0.777778       -0.792857       0.367150    -0.875000       1.0   \n",
       "2   -1.172178        0.564286       0.478261    -0.883333       0.0   \n",
       "3   -0.351111        0.564286       0.080515    -0.250000       0.0   \n",
       "4    0.333333       -0.721429      -0.048309    -0.833333       1.0   \n",
       "\n",
       "   loan_condition_cat  home_ownership_cat  purpose_cat  interest_payment_cat  \n",
       "0                 0.0                -1.0    -1.666667                   0.0  \n",
       "1                 1.0                -1.0    -1.333333                   1.0  \n",
       "2                 0.0                -1.0    -1.000000                   1.0  \n",
       "3                 0.0                -1.0    -0.666667                   1.0  \n",
       "4                 0.0                -1.0    -0.666667                   0.0  "
      ]
     },
     "metadata": {},
     "output_type": "display_data"
    }
   ],
   "source": [
    "# Robust scaling\n",
    "X1_scale3 = RobustScaler().fit_transform(X1)\n",
    "display(pd.DataFrame(X1_scale3, columns=X1.columns).head())"
   ]
  },
  {
   "cell_type": "code",
   "execution_count": 10,
   "metadata": {},
   "outputs": [
    {
     "name": "stdout",
     "output_type": "stream",
     "text": [
      "0:03:58.141010\n"
     ]
    },
    {
     "data": {
      "text/plain": [
       "0.7993824517117808"
      ]
     },
     "metadata": {},
     "output_type": "display_data"
    }
   ],
   "source": [
    "# Split dataset to the train and test set \n",
    "X_train, X_test, y_train, y_test = train_test_split(X1_scale3, y1, random_state=0)\n",
    "# Create an instance\n",
    "knn = KNeighborsClassifier()\n",
    "# Apply KNN to the training set\n",
    "start=datetime.now()\n",
    "knn.fit(X_train, y_train)\n",
    "# Compare the predicted y and actual y\n",
    "y_pred = knn.predict(X_test)\n",
    "print (datetime.now()-start)\n",
    "display(metrics.accuracy_score(y_test, y_pred))"
   ]
  },
  {
   "cell_type": "markdown",
   "metadata": {},
   "source": [
    "* Min-Max scaling is the best method in terms of prediciton accuracy."
   ]
  },
  {
   "cell_type": "markdown",
   "metadata": {},
   "source": [
    "# Section 5.1.2 - PCA with different components"
   ]
  },
  {
   "cell_type": "code",
   "execution_count": 11,
   "metadata": {},
   "outputs": [
    {
     "data": {
      "text/html": [
       "<div>\n",
       "<style scoped>\n",
       "    .dataframe tbody tr th:only-of-type {\n",
       "        vertical-align: middle;\n",
       "    }\n",
       "\n",
       "    .dataframe tbody tr th {\n",
       "        vertical-align: top;\n",
       "    }\n",
       "\n",
       "    .dataframe thead th {\n",
       "        text-align: right;\n",
       "    }\n",
       "</style>\n",
       "<table border=\"1\" class=\"dataframe\">\n",
       "  <thead>\n",
       "    <tr style=\"text-align: right;\">\n",
       "      <th></th>\n",
       "      <th>annual_inc</th>\n",
       "      <th>emp_length_int</th>\n",
       "      <th>interest_rate</th>\n",
       "      <th>loan_amount</th>\n",
       "      <th>term_cat</th>\n",
       "      <th>loan_condition_cat</th>\n",
       "      <th>home_ownership_cat</th>\n",
       "      <th>purpose_cat</th>\n",
       "      <th>interest_payment_cat</th>\n",
       "    </tr>\n",
       "  </thead>\n",
       "  <tbody>\n",
       "    <tr>\n",
       "      <th>0</th>\n",
       "      <td>0.002526</td>\n",
       "      <td>1.000000</td>\n",
       "      <td>0.225180</td>\n",
       "      <td>0.130435</td>\n",
       "      <td>0.0</td>\n",
       "      <td>0.0</td>\n",
       "      <td>0.0</td>\n",
       "      <td>0.000000</td>\n",
       "      <td>0.0</td>\n",
       "    </tr>\n",
       "    <tr>\n",
       "      <th>1</th>\n",
       "      <td>0.003158</td>\n",
       "      <td>0.000000</td>\n",
       "      <td>0.420363</td>\n",
       "      <td>0.057971</td>\n",
       "      <td>1.0</td>\n",
       "      <td>1.0</td>\n",
       "      <td>0.0</td>\n",
       "      <td>0.076923</td>\n",
       "      <td>1.0</td>\n",
       "    </tr>\n",
       "    <tr>\n",
       "      <th>2</th>\n",
       "      <td>0.001290</td>\n",
       "      <td>1.000000</td>\n",
       "      <td>0.449514</td>\n",
       "      <td>0.055072</td>\n",
       "      <td>0.0</td>\n",
       "      <td>0.0</td>\n",
       "      <td>0.0</td>\n",
       "      <td>0.153846</td>\n",
       "      <td>1.0</td>\n",
       "    </tr>\n",
       "    <tr>\n",
       "      <th>3</th>\n",
       "      <td>0.005179</td>\n",
       "      <td>1.000000</td>\n",
       "      <td>0.345163</td>\n",
       "      <td>0.275362</td>\n",
       "      <td>0.0</td>\n",
       "      <td>0.0</td>\n",
       "      <td>0.0</td>\n",
       "      <td>0.230769</td>\n",
       "      <td>1.0</td>\n",
       "    </tr>\n",
       "    <tr>\n",
       "      <th>4</th>\n",
       "      <td>0.008421</td>\n",
       "      <td>0.052632</td>\n",
       "      <td>0.311365</td>\n",
       "      <td>0.072464</td>\n",
       "      <td>1.0</td>\n",
       "      <td>0.0</td>\n",
       "      <td>0.0</td>\n",
       "      <td>0.230769</td>\n",
       "      <td>0.0</td>\n",
       "    </tr>\n",
       "  </tbody>\n",
       "</table>\n",
       "</div>"
      ],
      "text/plain": [
       "   annual_inc  emp_length_int  interest_rate  loan_amount  term_cat  \\\n",
       "0    0.002526        1.000000       0.225180     0.130435       0.0   \n",
       "1    0.003158        0.000000       0.420363     0.057971       1.0   \n",
       "2    0.001290        1.000000       0.449514     0.055072       0.0   \n",
       "3    0.005179        1.000000       0.345163     0.275362       0.0   \n",
       "4    0.008421        0.052632       0.311365     0.072464       1.0   \n",
       "\n",
       "   loan_condition_cat  home_ownership_cat  purpose_cat  interest_payment_cat  \n",
       "0                 0.0                 0.0     0.000000                   0.0  \n",
       "1                 1.0                 0.0     0.076923                   1.0  \n",
       "2                 0.0                 0.0     0.153846                   1.0  \n",
       "3                 0.0                 0.0     0.230769                   1.0  \n",
       "4                 0.0                 0.0     0.230769                   0.0  "
      ]
     },
     "metadata": {},
     "output_type": "display_data"
    }
   ],
   "source": [
    "# Min-max scaling\n",
    "X1_scale2 = MinMaxScaler().fit_transform(X1)\n",
    "display(pd.DataFrame(X1_scale2, columns=X1.columns).head())"
   ]
  },
  {
   "cell_type": "code",
   "execution_count": 12,
   "metadata": {},
   "outputs": [
    {
     "data": {
      "text/html": [
       "<div>\n",
       "<style scoped>\n",
       "    .dataframe tbody tr th:only-of-type {\n",
       "        vertical-align: middle;\n",
       "    }\n",
       "\n",
       "    .dataframe tbody tr th {\n",
       "        vertical-align: top;\n",
       "    }\n",
       "\n",
       "    .dataframe thead th {\n",
       "        text-align: right;\n",
       "    }\n",
       "</style>\n",
       "<table border=\"1\" class=\"dataframe\">\n",
       "  <thead>\n",
       "    <tr style=\"text-align: right;\">\n",
       "      <th></th>\n",
       "      <th>pca1</th>\n",
       "      <th>pca2</th>\n",
       "    </tr>\n",
       "  </thead>\n",
       "  <tbody>\n",
       "    <tr>\n",
       "      <th>0</th>\n",
       "      <td>-0.600901</td>\n",
       "      <td>0.152540</td>\n",
       "    </tr>\n",
       "    <tr>\n",
       "      <th>1</th>\n",
       "      <td>0.802580</td>\n",
       "      <td>-0.260676</td>\n",
       "    </tr>\n",
       "    <tr>\n",
       "      <th>2</th>\n",
       "      <td>0.203518</td>\n",
       "      <td>-0.439352</td>\n",
       "    </tr>\n",
       "    <tr>\n",
       "      <th>3</th>\n",
       "      <td>0.210642</td>\n",
       "      <td>-0.372705</td>\n",
       "    </tr>\n",
       "    <tr>\n",
       "      <th>4</th>\n",
       "      <td>-0.036304</td>\n",
       "      <td>0.402162</td>\n",
       "    </tr>\n",
       "  </tbody>\n",
       "</table>\n",
       "</div>"
      ],
      "text/plain": [
       "       pca1      pca2\n",
       "0 -0.600901  0.152540\n",
       "1  0.802580 -0.260676\n",
       "2  0.203518 -0.439352\n",
       "3  0.210642 -0.372705\n",
       "4 -0.036304  0.402162"
      ]
     },
     "metadata": {},
     "output_type": "display_data"
    }
   ],
   "source": [
    "# Conduct PCA with n = 2\n",
    "# Create instances and fit the model\n",
    "pca_model = PCA(n_components=2).fit(X1_scale2)\n",
    "# Convert to a dataframe\n",
    "X1_trans = pd.DataFrame(pca_model.transform(X1_scale2), columns=['pca1', 'pca2'])\n",
    "display(X1_trans.head())"
   ]
  },
  {
   "cell_type": "code",
   "execution_count": 13,
   "metadata": {},
   "outputs": [
    {
     "name": "stdout",
     "output_type": "stream",
     "text": [
      "0:00:03.223659\n"
     ]
    },
    {
     "data": {
      "text/plain": [
       "0.7106267889742839"
      ]
     },
     "metadata": {},
     "output_type": "display_data"
    }
   ],
   "source": [
    "# Split dataset to the train and test set \n",
    "X_train, X_test, y_train, y_test = train_test_split(X1_trans, y1, random_state=0, test_size=0.25)\n",
    "# Create an instance\n",
    "knn = KNeighborsClassifier()\n",
    "# Apply KNN to the training set\n",
    "start=datetime.now()\n",
    "knn.fit(X_train, y_train)\n",
    "# Compare the predicted y and actual y\n",
    "y_pred = knn.predict(X_test)\n",
    "print (datetime.now()-start)\n",
    "display(metrics.accuracy_score(y_test, y_pred))"
   ]
  },
  {
   "cell_type": "code",
   "execution_count": 14,
   "metadata": {},
   "outputs": [
    {
     "data": {
      "text/html": [
       "<div>\n",
       "<style scoped>\n",
       "    .dataframe tbody tr th:only-of-type {\n",
       "        vertical-align: middle;\n",
       "    }\n",
       "\n",
       "    .dataframe tbody tr th {\n",
       "        vertical-align: top;\n",
       "    }\n",
       "\n",
       "    .dataframe thead th {\n",
       "        text-align: right;\n",
       "    }\n",
       "</style>\n",
       "<table border=\"1\" class=\"dataframe\">\n",
       "  <thead>\n",
       "    <tr style=\"text-align: right;\">\n",
       "      <th></th>\n",
       "      <th>annual_inc</th>\n",
       "      <th>emp_length_int</th>\n",
       "      <th>interest_rate</th>\n",
       "      <th>loan_amount</th>\n",
       "      <th>term_cat</th>\n",
       "      <th>loan_condition_cat</th>\n",
       "      <th>home_ownership_cat</th>\n",
       "      <th>purpose_cat</th>\n",
       "      <th>interest_payment_cat</th>\n",
       "    </tr>\n",
       "  </thead>\n",
       "  <tbody>\n",
       "    <tr>\n",
       "      <th>0</th>\n",
       "      <td>0.002526</td>\n",
       "      <td>1.000000</td>\n",
       "      <td>0.225180</td>\n",
       "      <td>0.130435</td>\n",
       "      <td>0.0</td>\n",
       "      <td>0.0</td>\n",
       "      <td>0.0</td>\n",
       "      <td>0.000000</td>\n",
       "      <td>0.0</td>\n",
       "    </tr>\n",
       "    <tr>\n",
       "      <th>1</th>\n",
       "      <td>0.003158</td>\n",
       "      <td>0.000000</td>\n",
       "      <td>0.420363</td>\n",
       "      <td>0.057971</td>\n",
       "      <td>1.0</td>\n",
       "      <td>1.0</td>\n",
       "      <td>0.0</td>\n",
       "      <td>0.076923</td>\n",
       "      <td>1.0</td>\n",
       "    </tr>\n",
       "    <tr>\n",
       "      <th>2</th>\n",
       "      <td>0.001290</td>\n",
       "      <td>1.000000</td>\n",
       "      <td>0.449514</td>\n",
       "      <td>0.055072</td>\n",
       "      <td>0.0</td>\n",
       "      <td>0.0</td>\n",
       "      <td>0.0</td>\n",
       "      <td>0.153846</td>\n",
       "      <td>1.0</td>\n",
       "    </tr>\n",
       "    <tr>\n",
       "      <th>3</th>\n",
       "      <td>0.005179</td>\n",
       "      <td>1.000000</td>\n",
       "      <td>0.345163</td>\n",
       "      <td>0.275362</td>\n",
       "      <td>0.0</td>\n",
       "      <td>0.0</td>\n",
       "      <td>0.0</td>\n",
       "      <td>0.230769</td>\n",
       "      <td>1.0</td>\n",
       "    </tr>\n",
       "    <tr>\n",
       "      <th>4</th>\n",
       "      <td>0.008421</td>\n",
       "      <td>0.052632</td>\n",
       "      <td>0.311365</td>\n",
       "      <td>0.072464</td>\n",
       "      <td>1.0</td>\n",
       "      <td>0.0</td>\n",
       "      <td>0.0</td>\n",
       "      <td>0.230769</td>\n",
       "      <td>0.0</td>\n",
       "    </tr>\n",
       "  </tbody>\n",
       "</table>\n",
       "</div>"
      ],
      "text/plain": [
       "   annual_inc  emp_length_int  interest_rate  loan_amount  term_cat  \\\n",
       "0    0.002526        1.000000       0.225180     0.130435       0.0   \n",
       "1    0.003158        0.000000       0.420363     0.057971       1.0   \n",
       "2    0.001290        1.000000       0.449514     0.055072       0.0   \n",
       "3    0.005179        1.000000       0.345163     0.275362       0.0   \n",
       "4    0.008421        0.052632       0.311365     0.072464       1.0   \n",
       "\n",
       "   loan_condition_cat  home_ownership_cat  purpose_cat  interest_payment_cat  \n",
       "0                 0.0                 0.0     0.000000                   0.0  \n",
       "1                 1.0                 0.0     0.076923                   1.0  \n",
       "2                 0.0                 0.0     0.153846                   1.0  \n",
       "3                 0.0                 0.0     0.230769                   1.0  \n",
       "4                 0.0                 0.0     0.230769                   0.0  "
      ]
     },
     "metadata": {},
     "output_type": "display_data"
    }
   ],
   "source": [
    "# Min-max scaling\n",
    "X1_scale = MinMaxScaler().fit_transform(X1)\n",
    "display(pd.DataFrame(X1_scale, columns=X1.columns).head())"
   ]
  },
  {
   "cell_type": "code",
   "execution_count": 15,
   "metadata": {},
   "outputs": [
    {
     "data": {
      "text/html": [
       "<div>\n",
       "<style scoped>\n",
       "    .dataframe tbody tr th:only-of-type {\n",
       "        vertical-align: middle;\n",
       "    }\n",
       "\n",
       "    .dataframe tbody tr th {\n",
       "        vertical-align: top;\n",
       "    }\n",
       "\n",
       "    .dataframe thead th {\n",
       "        text-align: right;\n",
       "    }\n",
       "</style>\n",
       "<table border=\"1\" class=\"dataframe\">\n",
       "  <thead>\n",
       "    <tr style=\"text-align: right;\">\n",
       "      <th></th>\n",
       "      <th>pca1</th>\n",
       "      <th>pca2</th>\n",
       "      <th>pca3</th>\n",
       "      <th>pca4</th>\n",
       "      <th>pca5</th>\n",
       "    </tr>\n",
       "  </thead>\n",
       "  <tbody>\n",
       "    <tr>\n",
       "      <th>0</th>\n",
       "      <td>-0.600901</td>\n",
       "      <td>0.152540</td>\n",
       "      <td>-0.362126</td>\n",
       "      <td>-0.016072</td>\n",
       "      <td>-0.279143</td>\n",
       "    </tr>\n",
       "    <tr>\n",
       "      <th>1</th>\n",
       "      <td>0.802580</td>\n",
       "      <td>-0.260676</td>\n",
       "      <td>0.650297</td>\n",
       "      <td>0.861605</td>\n",
       "      <td>-0.450701</td>\n",
       "    </tr>\n",
       "    <tr>\n",
       "      <th>2</th>\n",
       "      <td>0.203518</td>\n",
       "      <td>-0.439352</td>\n",
       "      <td>-0.593714</td>\n",
       "      <td>-0.135197</td>\n",
       "      <td>-0.289843</td>\n",
       "    </tr>\n",
       "    <tr>\n",
       "      <th>3</th>\n",
       "      <td>0.210642</td>\n",
       "      <td>-0.372705</td>\n",
       "      <td>-0.580720</td>\n",
       "      <td>-0.135590</td>\n",
       "      <td>-0.097121</td>\n",
       "    </tr>\n",
       "    <tr>\n",
       "      <th>4</th>\n",
       "      <td>-0.036304</td>\n",
       "      <td>0.402162</td>\n",
       "      <td>0.833884</td>\n",
       "      <td>-0.006345</td>\n",
       "      <td>-0.552889</td>\n",
       "    </tr>\n",
       "  </tbody>\n",
       "</table>\n",
       "</div>"
      ],
      "text/plain": [
       "       pca1      pca2      pca3      pca4      pca5\n",
       "0 -0.600901  0.152540 -0.362126 -0.016072 -0.279143\n",
       "1  0.802580 -0.260676  0.650297  0.861605 -0.450701\n",
       "2  0.203518 -0.439352 -0.593714 -0.135197 -0.289843\n",
       "3  0.210642 -0.372705 -0.580720 -0.135590 -0.097121\n",
       "4 -0.036304  0.402162  0.833884 -0.006345 -0.552889"
      ]
     },
     "metadata": {},
     "output_type": "display_data"
    }
   ],
   "source": [
    "# Conduct PCA with n = 5\n",
    "# Create instances and fit the model\n",
    "pca_model = PCA(n_components=5).fit(X1_scale)\n",
    "# Convert to a dataframe\n",
    "X1_trans = pd.DataFrame(pca_model.transform(X1_scale), columns=['pca1', 'pca2', 'pca3', 'pca4', 'pca5'])\n",
    "display(X1_trans.head())"
   ]
  },
  {
   "cell_type": "code",
   "execution_count": 16,
   "metadata": {},
   "outputs": [
    {
     "name": "stdout",
     "output_type": "stream",
     "text": [
      "0:00:05.891370\n"
     ]
    },
    {
     "data": {
      "text/plain": [
       "0.816304176339336"
      ]
     },
     "metadata": {},
     "output_type": "display_data"
    }
   ],
   "source": [
    "# Split dataset to the train and test set \n",
    "X_train, X_test, y_train, y_test = train_test_split(X1_trans, y1, random_state=0, test_size=0.25)\n",
    "# Create an instance\n",
    "knn = KNeighborsClassifier()\n",
    "# Apply KNN to the training set\n",
    "start=datetime.now()\n",
    "knn.fit(X_train, y_train)\n",
    "# Compare the predicted y and actual y\n",
    "y_pred = knn.predict(X_test)\n",
    "print (datetime.now()-start)\n",
    "display(metrics.accuracy_score(y_test, y_pred))"
   ]
  },
  {
   "cell_type": "markdown",
   "metadata": {},
   "source": [
    "* Compare the result of  case when n=9 and n=5, while the different of accuracy is about 1%, the speed is 30X faster.\n",
    "* Compare the result of  when n=2 and n=5, while the different of time is about 8 seconds, the accuracy is increased by more than 10%.\n",
    "* Therefore, PCA with 5 components is a satisfactory choice in terms of both accuracy and speed, which will be used in the following examples."
   ]
  },
  {
   "cell_type": "markdown",
   "metadata": {},
   "source": [
    "# Section 5.1.3 - Different \"weight\" of samples"
   ]
  },
  {
   "cell_type": "code",
   "execution_count": 24,
   "metadata": {},
   "outputs": [
    {
     "name": "stdout",
     "output_type": "stream",
     "text": [
      "0:00:12.198904\n"
     ]
    },
    {
     "data": {
      "text/plain": [
       "0.816304176339336"
      ]
     },
     "metadata": {},
     "output_type": "display_data"
    }
   ],
   "source": [
    "# Split dataset to the train and test set \n",
    "X_train, X_test, y_train, y_test = train_test_split(X1_trans, y1, random_state=0)\n",
    "# Create an instance\n",
    "knn = KNeighborsClassifier(weights='uniform') \n",
    "# Apply KNN to the training set\n",
    "start=datetime.now()\n",
    "knn.fit(X_train, y_train)\n",
    "# Compare the predicted y and actual y\n",
    "y_pred = knn.predict(X_test)\n",
    "print (datetime.now()-start)\n",
    "display(metrics.accuracy_score(y_test, y_pred))"
   ]
  },
  {
   "cell_type": "markdown",
   "metadata": {},
   "source": [
    "* In the \"weight\" parameter, 'distance' is better than 'uniform', so 'distance' will be used in the following examples."
   ]
  },
  {
   "cell_type": "markdown",
   "metadata": {},
   "source": [
    "# Section 5.1.4 - Different test size"
   ]
  },
  {
   "cell_type": "code",
   "execution_count": 18,
   "metadata": {},
   "outputs": [
    {
     "name": "stdout",
     "output_type": "stream",
     "text": [
      "[0.844, 0.842, 0.84, 0.838, 0.836, 0.834, 0.83, 0.827]\n"
     ]
    }
   ],
   "source": [
    "# loop function to choose various test size\n",
    "size_range = np.arange(0.1, 0.5, 0.05)\n",
    "scores = []\n",
    "\n",
    "for size in size_range:\n",
    "    X_train, X_test, y_train, y_test = train_test_split(X1_trans, y1, random_state=0, test_size=size)\n",
    "    knn = KNeighborsClassifier(weights='distance').fit(X_train, y_train)  \n",
    "    y_pred = knn.predict(X_test)\n",
    "    scores.append(round(metrics.accuracy_score(y_test, y_pred), 3))\n",
    "    \n",
    "print(scores)"
   ]
  },
  {
   "cell_type": "code",
   "execution_count": 19,
   "metadata": {},
   "outputs": [
    {
     "data": {
      "image/png": "[encoded data removed]",
      "text/plain": [
       "<Figure size 432x288 with 1 Axes>"
      ]
     },
     "metadata": {
      "needs_background": "light"
     },
     "output_type": "display_data"
    }
   ],
   "source": [
    "# Plot for various test size\n",
    "plt.plot(size_range, scores)\n",
    "plt.axis([0.1, 0.5, min(scores), max(scores)])\n",
    "plt.xticks(size_range)\n",
    "plt.xlabel('Test size')\n",
    "plt.ylabel('Prediction accuracy')\n",
    "plt.savefig('accu_testsize')"
   ]
  },
  {
   "cell_type": "markdown",
   "metadata": {},
   "source": [
    "* Test size will be set as 0.1 in the following examples."
   ]
  },
  {
   "cell_type": "markdown",
   "metadata": {},
   "source": [
    "# Section 5.1.5 - Different number of k-NN neighbors"
   ]
  },
  {
   "cell_type": "code",
   "execution_count": 25,
   "metadata": {},
   "outputs": [
    {
     "name": "stdout",
     "output_type": "stream",
     "text": [
      "[0.832, 0.832, 0.839, 0.842, 0.844, 0.846, 0.846, 0.847, 0.847, 0.848, 0.848, 0.848, 0.848, 0.849, 0.849, 0.849, 0.848, 0.848, 0.849, 0.848]\n"
     ]
    }
   ],
   "source": [
    "# loop function to choose various number of neighbors\n",
    "k_range = range(1,21)\n",
    "scores = []\n",
    "\n",
    "for k in k_range:\n",
    "    X_train, X_test, y_train, y_test = train_test_split(X1_trans, y1, random_state=0, test_size=0.1)\n",
    "    knn = KNeighborsClassifier(n_neighbors=k, weights='distance').fit(X_train, y_train)  \n",
    "    y_pred = knn.predict(X_test)\n",
    "    scores.append(round(metrics.accuracy_score(y_test, y_pred), 3))\n",
    "    \n",
    "print(scores)"
   ]
  },
  {
   "cell_type": "code",
   "execution_count": 26,
   "metadata": {},
   "outputs": [
    {
     "data": {
      "image/png": "[encoded data removed]",
      "text/plain": [
       "<Figure size 432x288 with 1 Axes>"
      ]
     },
     "metadata": {
      "needs_background": "light"
     },
     "output_type": "display_data"
    }
   ],
   "source": [
    "# Plot for various number of neighborhoods\n",
    "plt.plot(k_range, scores)\n",
    "plt.axis([1, 20, min(scores), max(scores)+0.0025])\n",
    "plt.xticks(k_range)\n",
    "plt.xlabel('Number of k-NN neighbors')\n",
    "plt.ylabel('Prediction accuracy')\n",
    "plt.savefig('num_knn.png')"
   ]
  },
  {
   "cell_type": "markdown",
   "metadata": {},
   "source": [
    "# Section 5.1.6 - Different Type of distance"
   ]
  },
  {
   "cell_type": "code",
   "execution_count": 27,
   "metadata": {},
   "outputs": [
    {
     "name": "stdout",
     "output_type": "stream",
     "text": [
      "0:00:09.240920\n"
     ]
    },
    {
     "data": {
      "text/plain": [
       "0.846131307895152"
      ]
     },
     "metadata": {},
     "output_type": "display_data"
    }
   ],
   "source": [
    "# Split dataset to the train and test set \n",
    "X_train, X_test, y_train, y_test = train_test_split(X1_trans, y1, random_state=0, test_size=0.1)\n",
    "# Create an instance\n",
    "knn = KNeighborsClassifier(weights='distance', p=1) # manhattan distance\n",
    "# Apply KNN to the training set\n",
    "start=datetime.now()\n",
    "knn.fit(X_train, y_train)\n",
    "# Compare the predicted y and actual y\n",
    "y_pred = knn.predict(X_test)\n",
    "print (datetime.now()-start)\n",
    "display(metrics.accuracy_score(y_test, y_pred))"
   ]
  },
  {
   "cell_type": "code",
   "execution_count": 28,
   "metadata": {},
   "outputs": [
    {
     "name": "stdout",
     "output_type": "stream",
     "text": [
      "0:00:09.512188\n"
     ]
    },
    {
     "data": {
      "text/plain": [
       "0.8443733237170096"
      ]
     },
     "metadata": {},
     "output_type": "display_data"
    }
   ],
   "source": [
    "# Split dataset to the train and test set \n",
    "X_train, X_test, y_train, y_test = train_test_split(X1_trans, y1, random_state=0, test_size=0.1)\n",
    "# Create an instance\n",
    "knn = KNeighborsClassifier(weights='distance') \n",
    "# Apply KNN to the training set\n",
    "start=datetime.now()\n",
    "knn.fit(X_train, y_train)\n",
    "# Compare the predicted y and actual y\n",
    "y_pred = knn.predict(X_test)\n",
    "print (datetime.now()-start)\n",
    "display(metrics.accuracy_score(y_test, y_pred))"
   ]
  },
  {
   "cell_type": "markdown",
   "metadata": {},
   "source": [
    "# Optimal case"
   ]
  },
  {
   "cell_type": "code",
   "execution_count": 29,
   "metadata": {},
   "outputs": [
    {
     "name": "stdout",
     "output_type": "stream",
     "text": [
      "0:20:05.897223\n"
     ]
    },
    {
     "data": {
      "text/plain": [
       "0.8671144267393901"
      ]
     },
     "metadata": {},
     "output_type": "display_data"
    }
   ],
   "source": [
    "# Min-max scaling\n",
    "X1_scale = MinMaxScaler().fit_transform(X1)\n",
    "\n",
    "# Split dataset to the train and test set \n",
    "X_train, X_test, y_train, y_test = train_test_split(X1_scale, y1, test_size=0.1, random_state=0)\n",
    "# Create an instance\n",
    "knn = KNeighborsClassifier(weights='distance', n_neighbors=15, p=1)\n",
    "# Apply KNN to the training set\n",
    "start=datetime.now()\n",
    "knn.fit(X_train, y_train)\n",
    "# Compare the predicted y and actual y\n",
    "y_pred = knn.predict(X_test)\n",
    "print (datetime.now()-start)\n",
    "display(metrics.accuracy_score(y_test, y_pred))"
   ]
  },
  {
   "cell_type": "markdown",
   "metadata": {},
   "source": [
    "Summary\n",
    "* Comparing vairous scaling methods, MinMax scaling performs better than robust scaling and the standard method according to the KNN accuracy.\n",
    "* Comparing raw data, pca2 and pca5, pca5 has a better performance in terms of accuracy and speed.\n",
    "* Comparing \"uniform\" and \"distance\", \"distance\" is better accroding to the accuracy.\n",
    "* Comparing different size of test, smaller test size (bigger train size) leads to better accurcy.\n",
    "* Comparing various number of neighborhoods, k=15 tends to achieve a highest accurary.\n",
    "* Comparing \"manhattan distance\" and \"euclidean\", their performance are similar.\n",
    "\n",
    "In conclusion, the best accuracy that KNN achieves in this experiment is around 86.7%, when sclaling = MinMax, pca(n=9), k=15, weight = \"distance\", test size=0.1, p=1 (\"manhattan distance\"). We may try another model (e.g. Decision Tree) to test if it can achieve a higher predicting accuracy on this dataset."
   ]
  },
  {
   "cell_type": "code",
   "execution_count": null,
   "metadata": {},
   "outputs": [],
   "source": []
  }
 ],
 "metadata": {
  "kernelspec": {
   "display_name": "Python 3",
   "language": "python",
   "name": "python3"
  },
  "language_info": {
   "codemirror_mode": {
    "name": "ipython",
    "version": 3
   },
   "file_extension": ".py",
   "mimetype": "text/x-python",
   "name": "python",
   "nbconvert_exporter": "python",
   "pygments_lexer": "ipython3",
   "version": "3.7.1"
  }
 },
 "nbformat": 4,
 "nbformat_minor": 2
}
