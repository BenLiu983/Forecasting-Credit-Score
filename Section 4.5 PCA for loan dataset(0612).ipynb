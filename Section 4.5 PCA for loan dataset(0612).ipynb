{
 "cells": [
  {
   "cell_type": "code",
   "execution_count": 1,
   "metadata": {},
   "outputs": [],
   "source": [
    "import pandas as pd\n",
    "import numpy as np\n",
    "import matplotlib.pyplot as plt\n",
    "from sklearn.preprocessing import StandardScaler\n",
    "from sklearn.decomposition import PCA\n",
    "%matplotlib inline"
   ]
  },
  {
   "cell_type": "code",
   "execution_count": 2,
   "metadata": {},
   "outputs": [
    {
     "data": {
      "text/html": [
       "<div>\n",
       "<style scoped>\n",
       "    .dataframe tbody tr th:only-of-type {\n",
       "        vertical-align: middle;\n",
       "    }\n",
       "\n",
       "    .dataframe tbody tr th {\n",
       "        vertical-align: top;\n",
       "    }\n",
       "\n",
       "    .dataframe thead th {\n",
       "        text-align: right;\n",
       "    }\n",
       "</style>\n",
       "<table border=\"1\" class=\"dataframe\">\n",
       "  <thead>\n",
       "    <tr style=\"text-align: right;\">\n",
       "      <th></th>\n",
       "      <th>id</th>\n",
       "      <th>year</th>\n",
       "      <th>issue_d</th>\n",
       "      <th>final_d</th>\n",
       "      <th>emp_length_int</th>\n",
       "      <th>home_ownership</th>\n",
       "      <th>home_ownership_cat</th>\n",
       "      <th>income_category</th>\n",
       "      <th>annual_inc</th>\n",
       "      <th>income_cat</th>\n",
       "      <th>...</th>\n",
       "      <th>loan_condition_cat</th>\n",
       "      <th>interest_rate</th>\n",
       "      <th>grade</th>\n",
       "      <th>grade_cat</th>\n",
       "      <th>dti</th>\n",
       "      <th>total_pymnt</th>\n",
       "      <th>total_rec_prncp</th>\n",
       "      <th>recoveries</th>\n",
       "      <th>installment</th>\n",
       "      <th>region</th>\n",
       "    </tr>\n",
       "  </thead>\n",
       "  <tbody>\n",
       "    <tr>\n",
       "      <th>0</th>\n",
       "      <td>1077501</td>\n",
       "      <td>2011</td>\n",
       "      <td>01/12/2011</td>\n",
       "      <td>1012015</td>\n",
       "      <td>10.0</td>\n",
       "      <td>RENT</td>\n",
       "      <td>1</td>\n",
       "      <td>Low</td>\n",
       "      <td>24000</td>\n",
       "      <td>1</td>\n",
       "      <td>...</td>\n",
       "      <td>0</td>\n",
       "      <td>10.65</td>\n",
       "      <td>B</td>\n",
       "      <td>2</td>\n",
       "      <td>27.65</td>\n",
       "      <td>5861.071414</td>\n",
       "      <td>5000.00</td>\n",
       "      <td>0.00</td>\n",
       "      <td>162.87</td>\n",
       "      <td>munster</td>\n",
       "    </tr>\n",
       "    <tr>\n",
       "      <th>1</th>\n",
       "      <td>1077430</td>\n",
       "      <td>2011</td>\n",
       "      <td>01/12/2011</td>\n",
       "      <td>1042013</td>\n",
       "      <td>0.5</td>\n",
       "      <td>RENT</td>\n",
       "      <td>1</td>\n",
       "      <td>Low</td>\n",
       "      <td>30000</td>\n",
       "      <td>1</td>\n",
       "      <td>...</td>\n",
       "      <td>1</td>\n",
       "      <td>15.27</td>\n",
       "      <td>C</td>\n",
       "      <td>3</td>\n",
       "      <td>1.00</td>\n",
       "      <td>1008.710000</td>\n",
       "      <td>456.46</td>\n",
       "      <td>117.08</td>\n",
       "      <td>59.83</td>\n",
       "      <td>leinster</td>\n",
       "    </tr>\n",
       "    <tr>\n",
       "      <th>2</th>\n",
       "      <td>1077175</td>\n",
       "      <td>2011</td>\n",
       "      <td>01/12/2011</td>\n",
       "      <td>1062014</td>\n",
       "      <td>10.0</td>\n",
       "      <td>RENT</td>\n",
       "      <td>1</td>\n",
       "      <td>Low</td>\n",
       "      <td>12252</td>\n",
       "      <td>1</td>\n",
       "      <td>...</td>\n",
       "      <td>0</td>\n",
       "      <td>15.96</td>\n",
       "      <td>C</td>\n",
       "      <td>3</td>\n",
       "      <td>8.72</td>\n",
       "      <td>3003.653644</td>\n",
       "      <td>2400.00</td>\n",
       "      <td>0.00</td>\n",
       "      <td>84.33</td>\n",
       "      <td>cannught</td>\n",
       "    </tr>\n",
       "    <tr>\n",
       "      <th>3</th>\n",
       "      <td>1076863</td>\n",
       "      <td>2011</td>\n",
       "      <td>01/12/2011</td>\n",
       "      <td>1012015</td>\n",
       "      <td>10.0</td>\n",
       "      <td>RENT</td>\n",
       "      <td>1</td>\n",
       "      <td>Low</td>\n",
       "      <td>49200</td>\n",
       "      <td>1</td>\n",
       "      <td>...</td>\n",
       "      <td>0</td>\n",
       "      <td>13.49</td>\n",
       "      <td>C</td>\n",
       "      <td>3</td>\n",
       "      <td>20.00</td>\n",
       "      <td>12226.302210</td>\n",
       "      <td>10000.00</td>\n",
       "      <td>0.00</td>\n",
       "      <td>339.31</td>\n",
       "      <td>ulster</td>\n",
       "    </tr>\n",
       "    <tr>\n",
       "      <th>4</th>\n",
       "      <td>1075358</td>\n",
       "      <td>2011</td>\n",
       "      <td>01/12/2011</td>\n",
       "      <td>1012016</td>\n",
       "      <td>1.0</td>\n",
       "      <td>RENT</td>\n",
       "      <td>1</td>\n",
       "      <td>Low</td>\n",
       "      <td>80000</td>\n",
       "      <td>1</td>\n",
       "      <td>...</td>\n",
       "      <td>0</td>\n",
       "      <td>12.69</td>\n",
       "      <td>B</td>\n",
       "      <td>2</td>\n",
       "      <td>17.94</td>\n",
       "      <td>3242.170000</td>\n",
       "      <td>2233.10</td>\n",
       "      <td>0.00</td>\n",
       "      <td>67.79</td>\n",
       "      <td>ulster</td>\n",
       "    </tr>\n",
       "  </tbody>\n",
       "</table>\n",
       "<p>5 rows × 30 columns</p>\n",
       "</div>"
      ],
      "text/plain": [
       "        id  year     issue_d  final_d  emp_length_int home_ownership  \\\n",
       "0  1077501  2011  01/12/2011  1012015            10.0           RENT   \n",
       "1  1077430  2011  01/12/2011  1042013             0.5           RENT   \n",
       "2  1077175  2011  01/12/2011  1062014            10.0           RENT   \n",
       "3  1076863  2011  01/12/2011  1012015            10.0           RENT   \n",
       "4  1075358  2011  01/12/2011  1012016             1.0           RENT   \n",
       "\n",
       "   home_ownership_cat income_category  annual_inc  income_cat    ...     \\\n",
       "0                   1             Low       24000           1    ...      \n",
       "1                   1             Low       30000           1    ...      \n",
       "2                   1             Low       12252           1    ...      \n",
       "3                   1             Low       49200           1    ...      \n",
       "4                   1             Low       80000           1    ...      \n",
       "\n",
       "   loan_condition_cat interest_rate  grade grade_cat    dti   total_pymnt  \\\n",
       "0                   0         10.65      B         2  27.65   5861.071414   \n",
       "1                   1         15.27      C         3   1.00   1008.710000   \n",
       "2                   0         15.96      C         3   8.72   3003.653644   \n",
       "3                   0         13.49      C         3  20.00  12226.302210   \n",
       "4                   0         12.69      B         2  17.94   3242.170000   \n",
       "\n",
       "   total_rec_prncp recoveries  installment    region  \n",
       "0          5000.00       0.00       162.87   munster  \n",
       "1           456.46     117.08        59.83  leinster  \n",
       "2          2400.00       0.00        84.33  cannught  \n",
       "3         10000.00       0.00       339.31    ulster  \n",
       "4          2233.10       0.00        67.79    ulster  \n",
       "\n",
       "[5 rows x 30 columns]"
      ]
     },
     "metadata": {},
     "output_type": "display_data"
    },
    {
     "data": {
      "text/plain": [
       "(887379, 30)"
      ]
     },
     "metadata": {},
     "output_type": "display_data"
    }
   ],
   "source": [
    "# Import loan dataset\n",
    "data = pd.read_csv(\"loan_final313.csv\")\n",
    "df = pd.DataFrame(data)\n",
    "display(df.head())\n",
    "display(df.shape)"
   ]
  },
  {
   "cell_type": "markdown",
   "metadata": {},
   "source": [
    "#  PCA1 (raw data)"
   ]
  },
  {
   "cell_type": "code",
   "execution_count": 3,
   "metadata": {},
   "outputs": [
    {
     "data": {
      "text/plain": [
       "(887379, 10)"
      ]
     },
     "metadata": {},
     "output_type": "display_data"
    },
    {
     "data": {
      "text/html": [
       "<div>\n",
       "<style scoped>\n",
       "    .dataframe tbody tr th:only-of-type {\n",
       "        vertical-align: middle;\n",
       "    }\n",
       "\n",
       "    .dataframe tbody tr th {\n",
       "        vertical-align: top;\n",
       "    }\n",
       "\n",
       "    .dataframe thead th {\n",
       "        text-align: right;\n",
       "    }\n",
       "</style>\n",
       "<table border=\"1\" class=\"dataframe\">\n",
       "  <thead>\n",
       "    <tr style=\"text-align: right;\">\n",
       "      <th></th>\n",
       "      <th>annual_inc</th>\n",
       "      <th>emp_length_int</th>\n",
       "      <th>interest_rate</th>\n",
       "      <th>loan_amount</th>\n",
       "      <th>term_cat</th>\n",
       "      <th>loan_condition_cat</th>\n",
       "      <th>home_ownership_cat</th>\n",
       "      <th>purpose_cat</th>\n",
       "      <th>interest_payment_cat</th>\n",
       "    </tr>\n",
       "  </thead>\n",
       "  <tbody>\n",
       "    <tr>\n",
       "      <th>0</th>\n",
       "      <td>24000</td>\n",
       "      <td>10.0</td>\n",
       "      <td>10.65</td>\n",
       "      <td>5000</td>\n",
       "      <td>1</td>\n",
       "      <td>0</td>\n",
       "      <td>1</td>\n",
       "      <td>1</td>\n",
       "      <td>1</td>\n",
       "    </tr>\n",
       "    <tr>\n",
       "      <th>1</th>\n",
       "      <td>30000</td>\n",
       "      <td>0.5</td>\n",
       "      <td>15.27</td>\n",
       "      <td>2500</td>\n",
       "      <td>2</td>\n",
       "      <td>1</td>\n",
       "      <td>1</td>\n",
       "      <td>2</td>\n",
       "      <td>2</td>\n",
       "    </tr>\n",
       "    <tr>\n",
       "      <th>2</th>\n",
       "      <td>12252</td>\n",
       "      <td>10.0</td>\n",
       "      <td>15.96</td>\n",
       "      <td>2400</td>\n",
       "      <td>1</td>\n",
       "      <td>0</td>\n",
       "      <td>1</td>\n",
       "      <td>3</td>\n",
       "      <td>2</td>\n",
       "    </tr>\n",
       "    <tr>\n",
       "      <th>3</th>\n",
       "      <td>49200</td>\n",
       "      <td>10.0</td>\n",
       "      <td>13.49</td>\n",
       "      <td>10000</td>\n",
       "      <td>1</td>\n",
       "      <td>0</td>\n",
       "      <td>1</td>\n",
       "      <td>4</td>\n",
       "      <td>2</td>\n",
       "    </tr>\n",
       "    <tr>\n",
       "      <th>4</th>\n",
       "      <td>80000</td>\n",
       "      <td>1.0</td>\n",
       "      <td>12.69</td>\n",
       "      <td>3000</td>\n",
       "      <td>2</td>\n",
       "      <td>0</td>\n",
       "      <td>1</td>\n",
       "      <td>4</td>\n",
       "      <td>1</td>\n",
       "    </tr>\n",
       "  </tbody>\n",
       "</table>\n",
       "</div>"
      ],
      "text/plain": [
       "   annual_inc  emp_length_int  interest_rate  loan_amount  term_cat  \\\n",
       "0       24000            10.0          10.65         5000         1   \n",
       "1       30000             0.5          15.27         2500         2   \n",
       "2       12252            10.0          15.96         2400         1   \n",
       "3       49200            10.0          13.49        10000         1   \n",
       "4       80000             1.0          12.69         3000         2   \n",
       "\n",
       "   loan_condition_cat  home_ownership_cat  purpose_cat  interest_payment_cat  \n",
       "0                   0                   1            1                     1  \n",
       "1                   1                   1            2                     2  \n",
       "2                   0                   1            3                     2  \n",
       "3                   0                   1            4                     2  \n",
       "4                   0                   1            4                     1  "
      ]
     },
     "metadata": {},
     "output_type": "display_data"
    },
    {
     "data": {
      "text/plain": [
       "0    2\n",
       "1    3\n",
       "2    3\n",
       "3    3\n",
       "4    2\n",
       "Name: grade_cat, dtype: int64"
      ]
     },
     "metadata": {},
     "output_type": "display_data"
    }
   ],
   "source": [
    "# Choose 10 features\n",
    "df1 = df.iloc[:,[8, 4, 21, 10, 12, 20, 6, 16, 18, 23]]\n",
    "display(df1.shape)\n",
    "\n",
    "# Construct X and y\n",
    "X1 = df1.iloc[:,:-1]\n",
    "display(X1.head())\n",
    "y1 = df1.iloc[:,-1]\n",
    "display(y1.head())"
   ]
  },
  {
   "cell_type": "code",
   "execution_count": 4,
   "metadata": {},
   "outputs": [
    {
     "data": {
      "text/plain": [
       "numpy.ndarray"
      ]
     },
     "metadata": {},
     "output_type": "display_data"
    },
    {
     "data": {
      "text/plain": [
       "pandas.core.frame.DataFrame"
      ]
     },
     "metadata": {},
     "output_type": "display_data"
    },
    {
     "data": {
      "text/html": [
       "<div>\n",
       "<style scoped>\n",
       "    .dataframe tbody tr th:only-of-type {\n",
       "        vertical-align: middle;\n",
       "    }\n",
       "\n",
       "    .dataframe tbody tr th {\n",
       "        vertical-align: top;\n",
       "    }\n",
       "\n",
       "    .dataframe thead th {\n",
       "        text-align: right;\n",
       "    }\n",
       "</style>\n",
       "<table border=\"1\" class=\"dataframe\">\n",
       "  <thead>\n",
       "    <tr style=\"text-align: right;\">\n",
       "      <th></th>\n",
       "      <th>0</th>\n",
       "      <th>1</th>\n",
       "      <th>2</th>\n",
       "      <th>3</th>\n",
       "      <th>4</th>\n",
       "      <th>5</th>\n",
       "      <th>6</th>\n",
       "      <th>7</th>\n",
       "      <th>8</th>\n",
       "    </tr>\n",
       "  </thead>\n",
       "  <tbody>\n",
       "    <tr>\n",
       "      <th>0</th>\n",
       "      <td>-0.788703</td>\n",
       "      <td>1.126029</td>\n",
       "      <td>-0.592611</td>\n",
       "      <td>-1.156460</td>\n",
       "      <td>-0.654724</td>\n",
       "      <td>-0.286767</td>\n",
       "      <td>-1.1633</td>\n",
       "      <td>-1.627203</td>\n",
       "      <td>-0.95239</td>\n",
       "    </tr>\n",
       "    <tr>\n",
       "      <th>1</th>\n",
       "      <td>-0.695964</td>\n",
       "      <td>-1.582528</td>\n",
       "      <td>0.461735</td>\n",
       "      <td>-1.452829</td>\n",
       "      <td>1.527360</td>\n",
       "      <td>3.487148</td>\n",
       "      <td>-1.1633</td>\n",
       "      <td>-1.207238</td>\n",
       "      <td>1.04999</td>\n",
       "    </tr>\n",
       "    <tr>\n",
       "      <th>2</th>\n",
       "      <td>-0.970285</td>\n",
       "      <td>1.126029</td>\n",
       "      <td>0.619202</td>\n",
       "      <td>-1.464683</td>\n",
       "      <td>-0.654724</td>\n",
       "      <td>-0.286767</td>\n",
       "      <td>-1.1633</td>\n",
       "      <td>-0.787274</td>\n",
       "      <td>1.04999</td>\n",
       "    </tr>\n",
       "    <tr>\n",
       "      <th>3</th>\n",
       "      <td>-0.399202</td>\n",
       "      <td>1.126029</td>\n",
       "      <td>0.055515</td>\n",
       "      <td>-0.563724</td>\n",
       "      <td>-0.654724</td>\n",
       "      <td>-0.286767</td>\n",
       "      <td>-1.1633</td>\n",
       "      <td>-0.367309</td>\n",
       "      <td>1.04999</td>\n",
       "    </tr>\n",
       "    <tr>\n",
       "      <th>4</th>\n",
       "      <td>0.076856</td>\n",
       "      <td>-1.439973</td>\n",
       "      <td>-0.127055</td>\n",
       "      <td>-1.393555</td>\n",
       "      <td>1.527360</td>\n",
       "      <td>-0.286767</td>\n",
       "      <td>-1.1633</td>\n",
       "      <td>-0.367309</td>\n",
       "      <td>-0.95239</td>\n",
       "    </tr>\n",
       "  </tbody>\n",
       "</table>\n",
       "</div>"
      ],
      "text/plain": [
       "          0         1         2         3         4         5       6  \\\n",
       "0 -0.788703  1.126029 -0.592611 -1.156460 -0.654724 -0.286767 -1.1633   \n",
       "1 -0.695964 -1.582528  0.461735 -1.452829  1.527360  3.487148 -1.1633   \n",
       "2 -0.970285  1.126029  0.619202 -1.464683 -0.654724 -0.286767 -1.1633   \n",
       "3 -0.399202  1.126029  0.055515 -0.563724 -0.654724 -0.286767 -1.1633   \n",
       "4  0.076856 -1.439973 -0.127055 -1.393555  1.527360 -0.286767 -1.1633   \n",
       "\n",
       "          7        8  \n",
       "0 -1.627203 -0.95239  \n",
       "1 -1.207238  1.04999  \n",
       "2 -0.787274  1.04999  \n",
       "3 -0.367309  1.04999  \n",
       "4 -0.367309 -0.95239  "
      ]
     },
     "metadata": {},
     "output_type": "display_data"
    }
   ],
   "source": [
    "# Create instances \n",
    "scaler = StandardScaler()\n",
    "# Apply scaler\n",
    "X1 = scaler.fit_transform(X1)\n",
    "display(type(X1))\n",
    "X1 = pd.DataFrame(X1)\n",
    "display(type(X1))\n",
    "display(X1.head())"
   ]
  },
  {
   "cell_type": "code",
   "execution_count": 5,
   "metadata": {},
   "outputs": [
    {
     "data": {
      "text/html": [
       "<div>\n",
       "<style scoped>\n",
       "    .dataframe tbody tr th:only-of-type {\n",
       "        vertical-align: middle;\n",
       "    }\n",
       "\n",
       "    .dataframe tbody tr th {\n",
       "        vertical-align: top;\n",
       "    }\n",
       "\n",
       "    .dataframe thead th {\n",
       "        text-align: right;\n",
       "    }\n",
       "</style>\n",
       "<table border=\"1\" class=\"dataframe\">\n",
       "  <thead>\n",
       "    <tr style=\"text-align: right;\">\n",
       "      <th></th>\n",
       "      <th>pca1</th>\n",
       "      <th>pca2</th>\n",
       "    </tr>\n",
       "  </thead>\n",
       "  <tbody>\n",
       "    <tr>\n",
       "      <th>0</th>\n",
       "      <td>-1.801376</td>\n",
       "      <td>-0.729314</td>\n",
       "    </tr>\n",
       "    <tr>\n",
       "      <th>1</th>\n",
       "      <td>1.335095</td>\n",
       "      <td>-2.620087</td>\n",
       "    </tr>\n",
       "    <tr>\n",
       "      <th>2</th>\n",
       "      <td>0.036806</td>\n",
       "      <td>-1.803787</td>\n",
       "    </tr>\n",
       "    <tr>\n",
       "      <th>3</th>\n",
       "      <td>0.053096</td>\n",
       "      <td>-0.981897</td>\n",
       "    </tr>\n",
       "    <tr>\n",
       "      <th>4</th>\n",
       "      <td>-0.540469</td>\n",
       "      <td>-1.014896</td>\n",
       "    </tr>\n",
       "  </tbody>\n",
       "</table>\n",
       "</div>"
      ],
      "text/plain": [
       "       pca1      pca2\n",
       "0 -1.801376 -0.729314\n",
       "1  1.335095 -2.620087\n",
       "2  0.036806 -1.803787\n",
       "3  0.053096 -0.981897\n",
       "4 -0.540469 -1.014896"
      ]
     },
     "metadata": {},
     "output_type": "display_data"
    }
   ],
   "source": [
    "# Create instances \n",
    "pca1 = PCA(n_components=2)\n",
    "# Create a fitting model\n",
    "pca1_model = pca1.fit(X1)\n",
    "# Convert to a dataframe\n",
    "X1_trans = pd.DataFrame(pca1_model.transform(X1), columns=['pca1', 'pca2'])\n",
    "display(X1_trans.head())"
   ]
  },
  {
   "cell_type": "code",
   "execution_count": 6,
   "metadata": {},
   "outputs": [
    {
     "data": {
      "text/plain": [
       "Text(0.5, 1.0, 'PCA for raw dataset after scaling (y=grade)')"
      ]
     },
     "execution_count": 6,
     "metadata": {},
     "output_type": "execute_result"
    },
    {
     "data": {
      "image/png": "[encoded data removed]",
      "text/plain": [
       "<Figure size 432x288 with 1 Axes>"
      ]
     },
     "metadata": {
      "needs_background": "light"
     },
     "output_type": "display_data"
    }
   ],
   "source": [
    "# PCA plot\n",
    "plt.scatter(X1_trans['pca1'], X1_trans['pca2'], c=y1, s=0.2)\n",
    "plt.title('PCA for raw dataset after scaling (y=grade)')"
   ]
  },
  {
   "cell_type": "code",
   "execution_count": 7,
   "metadata": {},
   "outputs": [
    {
     "data": {
      "text/plain": [
       "Text(0.5, 1.0, 'PCA for raw dataset after scaling (y=grade)')"
      ]
     },
     "execution_count": 7,
     "metadata": {},
     "output_type": "execute_result"
    },
    {
     "data": {
      "image/png": "[encoded data removed]",
      "text/plain": [
       "<Figure size 432x288 with 1 Axes>"
      ]
     },
     "metadata": {
      "needs_background": "light"
     },
     "output_type": "display_data"
    }
   ],
   "source": [
    "# PCA plot with \"pca2\" < 10\n",
    "plt.scatter(X1_trans['pca1'], X1_trans['pca2'], c=y1, s=0.2)\n",
    "plt.ylim(-5, 10)\n",
    "plt.title('PCA for raw dataset after scaling (y=grade)')"
   ]
  },
  {
   "cell_type": "code",
   "execution_count": 8,
   "metadata": {
    "scrolled": true
   },
   "outputs": [
    {
     "data": {
      "text/html": [
       "<div>\n",
       "<style scoped>\n",
       "    .dataframe tbody tr th:only-of-type {\n",
       "        vertical-align: middle;\n",
       "    }\n",
       "\n",
       "    .dataframe tbody tr th {\n",
       "        vertical-align: top;\n",
       "    }\n",
       "\n",
       "    .dataframe thead th {\n",
       "        text-align: right;\n",
       "    }\n",
       "</style>\n",
       "<table border=\"1\" class=\"dataframe\">\n",
       "  <thead>\n",
       "    <tr style=\"text-align: right;\">\n",
       "      <th></th>\n",
       "      <th>0</th>\n",
       "      <th>1</th>\n",
       "      <th>2</th>\n",
       "      <th>3</th>\n",
       "      <th>4</th>\n",
       "      <th>5</th>\n",
       "      <th>6</th>\n",
       "      <th>7</th>\n",
       "      <th>8</th>\n",
       "    </tr>\n",
       "  </thead>\n",
       "  <tbody>\n",
       "    <tr>\n",
       "      <th>0</th>\n",
       "      <td>0.042027</td>\n",
       "      <td>0.066386</td>\n",
       "      <td>0.581139</td>\n",
       "      <td>0.289323</td>\n",
       "      <td>0.465298</td>\n",
       "      <td>0.158597</td>\n",
       "      <td>0.047649</td>\n",
       "      <td>0.140967</td>\n",
       "      <td>0.555517</td>\n",
       "    </tr>\n",
       "    <tr>\n",
       "      <th>1</th>\n",
       "      <td>0.496820</td>\n",
       "      <td>0.306053</td>\n",
       "      <td>-0.224367</td>\n",
       "      <td>0.506857</td>\n",
       "      <td>0.196717</td>\n",
       "      <td>-0.169369</td>\n",
       "      <td>0.468188</td>\n",
       "      <td>-0.107072</td>\n",
       "      <td>-0.232828</td>\n",
       "    </tr>\n",
       "  </tbody>\n",
       "</table>\n",
       "</div>"
      ],
      "text/plain": [
       "          0         1         2         3         4         5         6  \\\n",
       "0  0.042027  0.066386  0.581139  0.289323  0.465298  0.158597  0.047649   \n",
       "1  0.496820  0.306053 -0.224367  0.506857  0.196717 -0.169369  0.468188   \n",
       "\n",
       "          7         8  \n",
       "0  0.140967  0.555517  \n",
       "1 -0.107072 -0.232828  "
      ]
     },
     "metadata": {},
     "output_type": "display_data"
    }
   ],
   "source": [
    "# Principal axes in feature space, representing the directions of maximum variance in the data.\n",
    "comp1 = pd.DataFrame(pca1_model.components_, columns=X1.columns)\n",
    "display(comp1)"
   ]
  },
  {
   "cell_type": "markdown",
   "metadata": {},
   "source": [
    "* Based on the plot, although there are some overlaps, it is straightforward that the color becomes lighter from left to right, which means it is feasible to utilize typical classification models to analyse the dataset."
   ]
  },
  {
   "cell_type": "markdown",
   "metadata": {},
   "source": [
    " # PCA2 (clean the feature \"home ownership\" )"
   ]
  },
  {
   "cell_type": "code",
   "execution_count": 9,
   "metadata": {},
   "outputs": [
    {
     "data": {
      "text/plain": [
       "(887144, 30)"
      ]
     },
     "metadata": {},
     "output_type": "display_data"
    }
   ],
   "source": [
    "# Exclude \"other\", \"none\", \"any\" from the home ownership category\n",
    "df2 = df[df['home_ownership_cat']<4]\n",
    "display(df2.shape)"
   ]
  },
  {
   "cell_type": "code",
   "execution_count": 10,
   "metadata": {},
   "outputs": [
    {
     "data": {
      "text/html": [
       "<div>\n",
       "<style scoped>\n",
       "    .dataframe tbody tr th:only-of-type {\n",
       "        vertical-align: middle;\n",
       "    }\n",
       "\n",
       "    .dataframe tbody tr th {\n",
       "        vertical-align: top;\n",
       "    }\n",
       "\n",
       "    .dataframe thead th {\n",
       "        text-align: right;\n",
       "    }\n",
       "</style>\n",
       "<table border=\"1\" class=\"dataframe\">\n",
       "  <thead>\n",
       "    <tr style=\"text-align: right;\">\n",
       "      <th></th>\n",
       "      <th>annual_inc</th>\n",
       "      <th>emp_length_int</th>\n",
       "      <th>interest_rate</th>\n",
       "      <th>loan_amount</th>\n",
       "      <th>term_cat</th>\n",
       "      <th>loan_condition_cat</th>\n",
       "      <th>home_ownership_cat</th>\n",
       "      <th>purpose_cat</th>\n",
       "      <th>interest_payment_cat</th>\n",
       "      <th>grade_cat</th>\n",
       "    </tr>\n",
       "  </thead>\n",
       "  <tbody>\n",
       "    <tr>\n",
       "      <th>0</th>\n",
       "      <td>24000</td>\n",
       "      <td>10.0</td>\n",
       "      <td>10.65</td>\n",
       "      <td>5000</td>\n",
       "      <td>1</td>\n",
       "      <td>0</td>\n",
       "      <td>1</td>\n",
       "      <td>1</td>\n",
       "      <td>1</td>\n",
       "      <td>2</td>\n",
       "    </tr>\n",
       "    <tr>\n",
       "      <th>1</th>\n",
       "      <td>30000</td>\n",
       "      <td>0.5</td>\n",
       "      <td>15.27</td>\n",
       "      <td>2500</td>\n",
       "      <td>2</td>\n",
       "      <td>1</td>\n",
       "      <td>1</td>\n",
       "      <td>2</td>\n",
       "      <td>2</td>\n",
       "      <td>3</td>\n",
       "    </tr>\n",
       "    <tr>\n",
       "      <th>2</th>\n",
       "      <td>12252</td>\n",
       "      <td>10.0</td>\n",
       "      <td>15.96</td>\n",
       "      <td>2400</td>\n",
       "      <td>1</td>\n",
       "      <td>0</td>\n",
       "      <td>1</td>\n",
       "      <td>3</td>\n",
       "      <td>2</td>\n",
       "      <td>3</td>\n",
       "    </tr>\n",
       "    <tr>\n",
       "      <th>3</th>\n",
       "      <td>49200</td>\n",
       "      <td>10.0</td>\n",
       "      <td>13.49</td>\n",
       "      <td>10000</td>\n",
       "      <td>1</td>\n",
       "      <td>0</td>\n",
       "      <td>1</td>\n",
       "      <td>4</td>\n",
       "      <td>2</td>\n",
       "      <td>3</td>\n",
       "    </tr>\n",
       "    <tr>\n",
       "      <th>4</th>\n",
       "      <td>80000</td>\n",
       "      <td>1.0</td>\n",
       "      <td>12.69</td>\n",
       "      <td>3000</td>\n",
       "      <td>2</td>\n",
       "      <td>0</td>\n",
       "      <td>1</td>\n",
       "      <td>4</td>\n",
       "      <td>1</td>\n",
       "      <td>2</td>\n",
       "    </tr>\n",
       "  </tbody>\n",
       "</table>\n",
       "</div>"
      ],
      "text/plain": [
       "   annual_inc  emp_length_int  interest_rate  loan_amount  term_cat  \\\n",
       "0       24000            10.0          10.65         5000         1   \n",
       "1       30000             0.5          15.27         2500         2   \n",
       "2       12252            10.0          15.96         2400         1   \n",
       "3       49200            10.0          13.49        10000         1   \n",
       "4       80000             1.0          12.69         3000         2   \n",
       "\n",
       "   loan_condition_cat  home_ownership_cat  purpose_cat  interest_payment_cat  \\\n",
       "0                   0                   1            1                     1   \n",
       "1                   1                   1            2                     2   \n",
       "2                   0                   1            3                     2   \n",
       "3                   0                   1            4                     2   \n",
       "4                   0                   1            4                     1   \n",
       "\n",
       "   grade_cat  \n",
       "0          2  \n",
       "1          3  \n",
       "2          3  \n",
       "3          3  \n",
       "4          2  "
      ]
     },
     "metadata": {},
     "output_type": "display_data"
    },
    {
     "data": {
      "text/plain": [
       "(887144, 10)"
      ]
     },
     "metadata": {},
     "output_type": "display_data"
    }
   ],
   "source": [
    "# Select 10 main features\n",
    "df2 = df2.iloc[:,[8, 4, 21, 10, 12, 20, 6, 16, 18, 23]]\n",
    "display(df2.head())\n",
    "display(df2.shape)"
   ]
  },
  {
   "cell_type": "code",
   "execution_count": 11,
   "metadata": {},
   "outputs": [
    {
     "data": {
      "text/html": [
       "<div>\n",
       "<style scoped>\n",
       "    .dataframe tbody tr th:only-of-type {\n",
       "        vertical-align: middle;\n",
       "    }\n",
       "\n",
       "    .dataframe tbody tr th {\n",
       "        vertical-align: top;\n",
       "    }\n",
       "\n",
       "    .dataframe thead th {\n",
       "        text-align: right;\n",
       "    }\n",
       "</style>\n",
       "<table border=\"1\" class=\"dataframe\">\n",
       "  <thead>\n",
       "    <tr style=\"text-align: right;\">\n",
       "      <th></th>\n",
       "      <th>annual_inc</th>\n",
       "      <th>emp_length_int</th>\n",
       "      <th>interest_rate</th>\n",
       "      <th>loan_amount</th>\n",
       "      <th>term_cat</th>\n",
       "      <th>loan_condition_cat</th>\n",
       "      <th>home_ownership_cat</th>\n",
       "      <th>purpose_cat</th>\n",
       "      <th>interest_payment_cat</th>\n",
       "    </tr>\n",
       "  </thead>\n",
       "  <tbody>\n",
       "    <tr>\n",
       "      <th>0</th>\n",
       "      <td>24000</td>\n",
       "      <td>10.0</td>\n",
       "      <td>10.65</td>\n",
       "      <td>5000</td>\n",
       "      <td>1</td>\n",
       "      <td>0</td>\n",
       "      <td>1</td>\n",
       "      <td>1</td>\n",
       "      <td>1</td>\n",
       "    </tr>\n",
       "    <tr>\n",
       "      <th>1</th>\n",
       "      <td>30000</td>\n",
       "      <td>0.5</td>\n",
       "      <td>15.27</td>\n",
       "      <td>2500</td>\n",
       "      <td>2</td>\n",
       "      <td>1</td>\n",
       "      <td>1</td>\n",
       "      <td>2</td>\n",
       "      <td>2</td>\n",
       "    </tr>\n",
       "    <tr>\n",
       "      <th>2</th>\n",
       "      <td>12252</td>\n",
       "      <td>10.0</td>\n",
       "      <td>15.96</td>\n",
       "      <td>2400</td>\n",
       "      <td>1</td>\n",
       "      <td>0</td>\n",
       "      <td>1</td>\n",
       "      <td>3</td>\n",
       "      <td>2</td>\n",
       "    </tr>\n",
       "    <tr>\n",
       "      <th>3</th>\n",
       "      <td>49200</td>\n",
       "      <td>10.0</td>\n",
       "      <td>13.49</td>\n",
       "      <td>10000</td>\n",
       "      <td>1</td>\n",
       "      <td>0</td>\n",
       "      <td>1</td>\n",
       "      <td>4</td>\n",
       "      <td>2</td>\n",
       "    </tr>\n",
       "    <tr>\n",
       "      <th>4</th>\n",
       "      <td>80000</td>\n",
       "      <td>1.0</td>\n",
       "      <td>12.69</td>\n",
       "      <td>3000</td>\n",
       "      <td>2</td>\n",
       "      <td>0</td>\n",
       "      <td>1</td>\n",
       "      <td>4</td>\n",
       "      <td>1</td>\n",
       "    </tr>\n",
       "  </tbody>\n",
       "</table>\n",
       "</div>"
      ],
      "text/plain": [
       "   annual_inc  emp_length_int  interest_rate  loan_amount  term_cat  \\\n",
       "0       24000            10.0          10.65         5000         1   \n",
       "1       30000             0.5          15.27         2500         2   \n",
       "2       12252            10.0          15.96         2400         1   \n",
       "3       49200            10.0          13.49        10000         1   \n",
       "4       80000             1.0          12.69         3000         2   \n",
       "\n",
       "   loan_condition_cat  home_ownership_cat  purpose_cat  interest_payment_cat  \n",
       "0                   0                   1            1                     1  \n",
       "1                   1                   1            2                     2  \n",
       "2                   0                   1            3                     2  \n",
       "3                   0                   1            4                     2  \n",
       "4                   0                   1            4                     1  "
      ]
     },
     "metadata": {},
     "output_type": "display_data"
    },
    {
     "data": {
      "text/plain": [
       "0    2\n",
       "1    3\n",
       "2    3\n",
       "3    3\n",
       "4    2\n",
       "Name: grade_cat, dtype: int64"
      ]
     },
     "metadata": {},
     "output_type": "display_data"
    }
   ],
   "source": [
    "# Construct X and y\n",
    "X2 = df2.iloc[:,:-1]\n",
    "display(X2.head())\n",
    "y2 = df2.iloc[:,-1]\n",
    "display(y2.head())"
   ]
  },
  {
   "cell_type": "code",
   "execution_count": 12,
   "metadata": {},
   "outputs": [
    {
     "data": {
      "text/plain": [
       "numpy.ndarray"
      ]
     },
     "metadata": {},
     "output_type": "display_data"
    },
    {
     "data": {
      "text/plain": [
       "pandas.core.frame.DataFrame"
      ]
     },
     "metadata": {},
     "output_type": "display_data"
    },
    {
     "data": {
      "text/html": [
       "<div>\n",
       "<style scoped>\n",
       "    .dataframe tbody tr th:only-of-type {\n",
       "        vertical-align: middle;\n",
       "    }\n",
       "\n",
       "    .dataframe tbody tr th {\n",
       "        vertical-align: top;\n",
       "    }\n",
       "\n",
       "    .dataframe thead th {\n",
       "        text-align: right;\n",
       "    }\n",
       "</style>\n",
       "<table border=\"1\" class=\"dataframe\">\n",
       "  <thead>\n",
       "    <tr style=\"text-align: right;\">\n",
       "      <th></th>\n",
       "      <th>0</th>\n",
       "      <th>1</th>\n",
       "      <th>2</th>\n",
       "      <th>3</th>\n",
       "      <th>4</th>\n",
       "      <th>5</th>\n",
       "      <th>6</th>\n",
       "      <th>7</th>\n",
       "      <th>8</th>\n",
       "    </tr>\n",
       "  </thead>\n",
       "  <tbody>\n",
       "    <tr>\n",
       "      <th>0</th>\n",
       "      <td>-0.788695</td>\n",
       "      <td>1.125973</td>\n",
       "      <td>-0.592560</td>\n",
       "      <td>-1.156541</td>\n",
       "      <td>-0.654822</td>\n",
       "      <td>-0.286703</td>\n",
       "      <td>-1.163372</td>\n",
       "      <td>-1.627381</td>\n",
       "      <td>-0.952365</td>\n",
       "    </tr>\n",
       "    <tr>\n",
       "      <th>1</th>\n",
       "      <td>-0.695962</td>\n",
       "      <td>-1.582664</td>\n",
       "      <td>0.461743</td>\n",
       "      <td>-1.452904</td>\n",
       "      <td>1.527133</td>\n",
       "      <td>3.487936</td>\n",
       "      <td>-1.163372</td>\n",
       "      <td>-1.207380</td>\n",
       "      <td>1.050017</td>\n",
       "    </tr>\n",
       "    <tr>\n",
       "      <th>2</th>\n",
       "      <td>-0.970267</td>\n",
       "      <td>1.125973</td>\n",
       "      <td>0.619204</td>\n",
       "      <td>-1.464758</td>\n",
       "      <td>-0.654822</td>\n",
       "      <td>-0.286703</td>\n",
       "      <td>-1.163372</td>\n",
       "      <td>-0.787379</td>\n",
       "      <td>1.050017</td>\n",
       "    </tr>\n",
       "    <tr>\n",
       "      <th>3</th>\n",
       "      <td>-0.399216</td>\n",
       "      <td>1.125973</td>\n",
       "      <td>0.055540</td>\n",
       "      <td>-0.563815</td>\n",
       "      <td>-0.654822</td>\n",
       "      <td>-0.286703</td>\n",
       "      <td>-1.163372</td>\n",
       "      <td>-0.367379</td>\n",
       "      <td>1.050017</td>\n",
       "    </tr>\n",
       "    <tr>\n",
       "      <th>4</th>\n",
       "      <td>0.076815</td>\n",
       "      <td>-1.440104</td>\n",
       "      <td>-0.127024</td>\n",
       "      <td>-1.393631</td>\n",
       "      <td>1.527133</td>\n",
       "      <td>-0.286703</td>\n",
       "      <td>-1.163372</td>\n",
       "      <td>-0.367379</td>\n",
       "      <td>-0.952365</td>\n",
       "    </tr>\n",
       "  </tbody>\n",
       "</table>\n",
       "</div>"
      ],
      "text/plain": [
       "          0         1         2         3         4         5         6  \\\n",
       "0 -0.788695  1.125973 -0.592560 -1.156541 -0.654822 -0.286703 -1.163372   \n",
       "1 -0.695962 -1.582664  0.461743 -1.452904  1.527133  3.487936 -1.163372   \n",
       "2 -0.970267  1.125973  0.619204 -1.464758 -0.654822 -0.286703 -1.163372   \n",
       "3 -0.399216  1.125973  0.055540 -0.563815 -0.654822 -0.286703 -1.163372   \n",
       "4  0.076815 -1.440104 -0.127024 -1.393631  1.527133 -0.286703 -1.163372   \n",
       "\n",
       "          7         8  \n",
       "0 -1.627381 -0.952365  \n",
       "1 -1.207380  1.050017  \n",
       "2 -0.787379  1.050017  \n",
       "3 -0.367379  1.050017  \n",
       "4 -0.367379 -0.952365  "
      ]
     },
     "metadata": {},
     "output_type": "display_data"
    }
   ],
   "source": [
    "# Create instances \n",
    "scaler = StandardScaler()\n",
    "# Apply scaler\n",
    "X2 = scaler.fit_transform(X2)\n",
    "display(type(X2))\n",
    "X2 = pd.DataFrame(X2)\n",
    "display(type(X2))\n",
    "display(X2.head())"
   ]
  },
  {
   "cell_type": "code",
   "execution_count": 13,
   "metadata": {},
   "outputs": [
    {
     "data": {
      "text/html": [
       "<div>\n",
       "<style scoped>\n",
       "    .dataframe tbody tr th:only-of-type {\n",
       "        vertical-align: middle;\n",
       "    }\n",
       "\n",
       "    .dataframe tbody tr th {\n",
       "        vertical-align: top;\n",
       "    }\n",
       "\n",
       "    .dataframe thead th {\n",
       "        text-align: right;\n",
       "    }\n",
       "</style>\n",
       "<table border=\"1\" class=\"dataframe\">\n",
       "  <thead>\n",
       "    <tr style=\"text-align: right;\">\n",
       "      <th></th>\n",
       "      <th>pca1</th>\n",
       "      <th>pca2</th>\n",
       "    </tr>\n",
       "  </thead>\n",
       "  <tbody>\n",
       "    <tr>\n",
       "      <th>0</th>\n",
       "      <td>-1.801658</td>\n",
       "      <td>-0.729767</td>\n",
       "    </tr>\n",
       "    <tr>\n",
       "      <th>1</th>\n",
       "      <td>1.335036</td>\n",
       "      <td>-2.620769</td>\n",
       "    </tr>\n",
       "    <tr>\n",
       "      <th>2</th>\n",
       "      <td>0.036555</td>\n",
       "      <td>-1.804002</td>\n",
       "    </tr>\n",
       "    <tr>\n",
       "      <th>3</th>\n",
       "      <td>0.052869</td>\n",
       "      <td>-0.982346</td>\n",
       "    </tr>\n",
       "    <tr>\n",
       "      <th>4</th>\n",
       "      <td>-0.540674</td>\n",
       "      <td>-1.015527</td>\n",
       "    </tr>\n",
       "  </tbody>\n",
       "</table>\n",
       "</div>"
      ],
      "text/plain": [
       "       pca1      pca2\n",
       "0 -1.801658 -0.729767\n",
       "1  1.335036 -2.620769\n",
       "2  0.036555 -1.804002\n",
       "3  0.052869 -0.982346\n",
       "4 -0.540674 -1.015527"
      ]
     },
     "metadata": {},
     "output_type": "display_data"
    }
   ],
   "source": [
    "# Create instances \n",
    "pca2 = PCA(n_components=2)\n",
    "# Create a fitting model\n",
    "pca2_model = pca2.fit(X2)\n",
    "# Convert to a dataframe\n",
    "X2_trans = pd.DataFrame(pca2_model.transform(X2), columns=['pca1', 'pca2'])\n",
    "display(X2_trans.head())"
   ]
  },
  {
   "cell_type": "code",
   "execution_count": 14,
   "metadata": {},
   "outputs": [
    {
     "data": {
      "text/plain": [
       "Text(0.5, 1.0, 'PCA for clean dataset after scaling (y=grade)')"
      ]
     },
     "execution_count": 14,
     "metadata": {},
     "output_type": "execute_result"
    },
    {
     "data": {
      "image/png": "[encoded data removed]",
      "text/plain": [
       "<Figure size 432x288 with 1 Axes>"
      ]
     },
     "metadata": {
      "needs_background": "light"
     },
     "output_type": "display_data"
    }
   ],
   "source": [
    "# PCA plot\n",
    "plt.scatter(X2_trans['pca1'], X2_trans['pca2'], c=y2, s=0.2)\n",
    "plt.title('PCA for clean dataset after scaling (y=grade)')"
   ]
  },
  {
   "cell_type": "code",
   "execution_count": 15,
   "metadata": {
    "scrolled": true
   },
   "outputs": [
    {
     "data": {
      "text/plain": [
       "Text(0.5, 1.0, 'PCA for clean dataset after scaling (y=grade)')"
      ]
     },
     "execution_count": 15,
     "metadata": {},
     "output_type": "execute_result"
    },
    {
     "data": {
      "image/png": "[encoded data removed]",
      "text/plain": [
       "<Figure size 432x288 with 1 Axes>"
      ]
     },
     "metadata": {
      "needs_background": "light"
     },
     "output_type": "display_data"
    }
   ],
   "source": [
    "# PCA plot when pca2 < 10\n",
    "plt.scatter(X2_trans['pca1'], X2_trans['pca2'], c=y2, s=0.2)\n",
    "plt.ylim(-5, 10)\n",
    "plt.title('PCA for clean dataset after scaling (y=grade)')"
   ]
  },
  {
   "cell_type": "markdown",
   "metadata": {},
   "source": [
    "* The plot of PCA is similar to that in the raw dataset case, which means the outliners in feature \"home ownership\" explains little variability of the raw dataset."
   ]
  },
  {
   "cell_type": "markdown",
   "metadata": {},
   "source": [
    "# PCA3 (clean the feature \"employment length\"  )"
   ]
  },
  {
   "cell_type": "code",
   "execution_count": 16,
   "metadata": {},
   "outputs": [
    {
     "data": {
      "text/plain": [
       "(887379, 30)"
      ]
     },
     "metadata": {},
     "output_type": "display_data"
    },
    {
     "data": {
      "text/plain": [
       "(0, 30)"
      ]
     },
     "metadata": {},
     "output_type": "display_data"
    }
   ],
   "source": [
    "# Round 6.05 to 6 in employment length (years)\n",
    "df3 = df\n",
    "df3[df3['emp_length_int']==6.05]=6\n",
    "display(df3.shape)\n",
    "display(df3[df3['emp_length_int']==6.05].shape)"
   ]
  },
  {
   "cell_type": "code",
   "execution_count": 17,
   "metadata": {},
   "outputs": [
    {
     "data": {
      "text/html": [
       "<div>\n",
       "<style scoped>\n",
       "    .dataframe tbody tr th:only-of-type {\n",
       "        vertical-align: middle;\n",
       "    }\n",
       "\n",
       "    .dataframe tbody tr th {\n",
       "        vertical-align: top;\n",
       "    }\n",
       "\n",
       "    .dataframe thead th {\n",
       "        text-align: right;\n",
       "    }\n",
       "</style>\n",
       "<table border=\"1\" class=\"dataframe\">\n",
       "  <thead>\n",
       "    <tr style=\"text-align: right;\">\n",
       "      <th></th>\n",
       "      <th>annual_inc</th>\n",
       "      <th>emp_length_int</th>\n",
       "      <th>interest_rate</th>\n",
       "      <th>loan_amount</th>\n",
       "      <th>term_cat</th>\n",
       "      <th>loan_condition_cat</th>\n",
       "      <th>home_ownership_cat</th>\n",
       "      <th>purpose_cat</th>\n",
       "      <th>interest_payment_cat</th>\n",
       "      <th>grade_cat</th>\n",
       "    </tr>\n",
       "  </thead>\n",
       "  <tbody>\n",
       "    <tr>\n",
       "      <th>0</th>\n",
       "      <td>24000</td>\n",
       "      <td>10.0</td>\n",
       "      <td>10.65</td>\n",
       "      <td>5000</td>\n",
       "      <td>1</td>\n",
       "      <td>0</td>\n",
       "      <td>1</td>\n",
       "      <td>1</td>\n",
       "      <td>1</td>\n",
       "      <td>2</td>\n",
       "    </tr>\n",
       "    <tr>\n",
       "      <th>1</th>\n",
       "      <td>30000</td>\n",
       "      <td>0.5</td>\n",
       "      <td>15.27</td>\n",
       "      <td>2500</td>\n",
       "      <td>2</td>\n",
       "      <td>1</td>\n",
       "      <td>1</td>\n",
       "      <td>2</td>\n",
       "      <td>2</td>\n",
       "      <td>3</td>\n",
       "    </tr>\n",
       "    <tr>\n",
       "      <th>2</th>\n",
       "      <td>12252</td>\n",
       "      <td>10.0</td>\n",
       "      <td>15.96</td>\n",
       "      <td>2400</td>\n",
       "      <td>1</td>\n",
       "      <td>0</td>\n",
       "      <td>1</td>\n",
       "      <td>3</td>\n",
       "      <td>2</td>\n",
       "      <td>3</td>\n",
       "    </tr>\n",
       "    <tr>\n",
       "      <th>3</th>\n",
       "      <td>49200</td>\n",
       "      <td>10.0</td>\n",
       "      <td>13.49</td>\n",
       "      <td>10000</td>\n",
       "      <td>1</td>\n",
       "      <td>0</td>\n",
       "      <td>1</td>\n",
       "      <td>4</td>\n",
       "      <td>2</td>\n",
       "      <td>3</td>\n",
       "    </tr>\n",
       "    <tr>\n",
       "      <th>4</th>\n",
       "      <td>80000</td>\n",
       "      <td>1.0</td>\n",
       "      <td>12.69</td>\n",
       "      <td>3000</td>\n",
       "      <td>2</td>\n",
       "      <td>0</td>\n",
       "      <td>1</td>\n",
       "      <td>4</td>\n",
       "      <td>1</td>\n",
       "      <td>2</td>\n",
       "    </tr>\n",
       "  </tbody>\n",
       "</table>\n",
       "</div>"
      ],
      "text/plain": [
       "   annual_inc  emp_length_int  interest_rate  loan_amount  term_cat  \\\n",
       "0       24000            10.0          10.65         5000         1   \n",
       "1       30000             0.5          15.27         2500         2   \n",
       "2       12252            10.0          15.96         2400         1   \n",
       "3       49200            10.0          13.49        10000         1   \n",
       "4       80000             1.0          12.69         3000         2   \n",
       "\n",
       "   loan_condition_cat  home_ownership_cat  purpose_cat  interest_payment_cat  \\\n",
       "0                   0                   1            1                     1   \n",
       "1                   1                   1            2                     2   \n",
       "2                   0                   1            3                     2   \n",
       "3                   0                   1            4                     2   \n",
       "4                   0                   1            4                     1   \n",
       "\n",
       "   grade_cat  \n",
       "0          2  \n",
       "1          3  \n",
       "2          3  \n",
       "3          3  \n",
       "4          2  "
      ]
     },
     "metadata": {},
     "output_type": "display_data"
    },
    {
     "data": {
      "text/plain": [
       "(887379, 10)"
      ]
     },
     "metadata": {},
     "output_type": "display_data"
    }
   ],
   "source": [
    "# Select 10 main features\n",
    "df3 = df3.iloc[:,[8, 4, 21, 10, 12, 20, 6, 16, 18, 23]]\n",
    "display(df3.head())\n",
    "display(df3.shape)"
   ]
  },
  {
   "cell_type": "code",
   "execution_count": 18,
   "metadata": {},
   "outputs": [
    {
     "data": {
      "text/html": [
       "<div>\n",
       "<style scoped>\n",
       "    .dataframe tbody tr th:only-of-type {\n",
       "        vertical-align: middle;\n",
       "    }\n",
       "\n",
       "    .dataframe tbody tr th {\n",
       "        vertical-align: top;\n",
       "    }\n",
       "\n",
       "    .dataframe thead th {\n",
       "        text-align: right;\n",
       "    }\n",
       "</style>\n",
       "<table border=\"1\" class=\"dataframe\">\n",
       "  <thead>\n",
       "    <tr style=\"text-align: right;\">\n",
       "      <th></th>\n",
       "      <th>annual_inc</th>\n",
       "      <th>emp_length_int</th>\n",
       "      <th>interest_rate</th>\n",
       "      <th>loan_amount</th>\n",
       "      <th>term_cat</th>\n",
       "      <th>loan_condition_cat</th>\n",
       "      <th>home_ownership_cat</th>\n",
       "      <th>purpose_cat</th>\n",
       "      <th>interest_payment_cat</th>\n",
       "    </tr>\n",
       "  </thead>\n",
       "  <tbody>\n",
       "    <tr>\n",
       "      <th>0</th>\n",
       "      <td>24000</td>\n",
       "      <td>10.0</td>\n",
       "      <td>10.65</td>\n",
       "      <td>5000</td>\n",
       "      <td>1</td>\n",
       "      <td>0</td>\n",
       "      <td>1</td>\n",
       "      <td>1</td>\n",
       "      <td>1</td>\n",
       "    </tr>\n",
       "    <tr>\n",
       "      <th>1</th>\n",
       "      <td>30000</td>\n",
       "      <td>0.5</td>\n",
       "      <td>15.27</td>\n",
       "      <td>2500</td>\n",
       "      <td>2</td>\n",
       "      <td>1</td>\n",
       "      <td>1</td>\n",
       "      <td>2</td>\n",
       "      <td>2</td>\n",
       "    </tr>\n",
       "    <tr>\n",
       "      <th>2</th>\n",
       "      <td>12252</td>\n",
       "      <td>10.0</td>\n",
       "      <td>15.96</td>\n",
       "      <td>2400</td>\n",
       "      <td>1</td>\n",
       "      <td>0</td>\n",
       "      <td>1</td>\n",
       "      <td>3</td>\n",
       "      <td>2</td>\n",
       "    </tr>\n",
       "    <tr>\n",
       "      <th>3</th>\n",
       "      <td>49200</td>\n",
       "      <td>10.0</td>\n",
       "      <td>13.49</td>\n",
       "      <td>10000</td>\n",
       "      <td>1</td>\n",
       "      <td>0</td>\n",
       "      <td>1</td>\n",
       "      <td>4</td>\n",
       "      <td>2</td>\n",
       "    </tr>\n",
       "    <tr>\n",
       "      <th>4</th>\n",
       "      <td>80000</td>\n",
       "      <td>1.0</td>\n",
       "      <td>12.69</td>\n",
       "      <td>3000</td>\n",
       "      <td>2</td>\n",
       "      <td>0</td>\n",
       "      <td>1</td>\n",
       "      <td>4</td>\n",
       "      <td>1</td>\n",
       "    </tr>\n",
       "  </tbody>\n",
       "</table>\n",
       "</div>"
      ],
      "text/plain": [
       "   annual_inc  emp_length_int  interest_rate  loan_amount  term_cat  \\\n",
       "0       24000            10.0          10.65         5000         1   \n",
       "1       30000             0.5          15.27         2500         2   \n",
       "2       12252            10.0          15.96         2400         1   \n",
       "3       49200            10.0          13.49        10000         1   \n",
       "4       80000             1.0          12.69         3000         2   \n",
       "\n",
       "   loan_condition_cat  home_ownership_cat  purpose_cat  interest_payment_cat  \n",
       "0                   0                   1            1                     1  \n",
       "1                   1                   1            2                     2  \n",
       "2                   0                   1            3                     2  \n",
       "3                   0                   1            4                     2  \n",
       "4                   0                   1            4                     1  "
      ]
     },
     "metadata": {},
     "output_type": "display_data"
    },
    {
     "data": {
      "text/plain": [
       "0    2\n",
       "1    3\n",
       "2    3\n",
       "3    3\n",
       "4    2\n",
       "Name: grade_cat, dtype: int64"
      ]
     },
     "metadata": {},
     "output_type": "display_data"
    }
   ],
   "source": [
    "# Construct X and y\n",
    "X3 = df3.iloc[:,:-1]\n",
    "display(X3.head())\n",
    "y3 = df3.iloc[:,-1]\n",
    "display(y3.head())"
   ]
  },
  {
   "cell_type": "code",
   "execution_count": 19,
   "metadata": {},
   "outputs": [
    {
     "data": {
      "text/plain": [
       "numpy.ndarray"
      ]
     },
     "metadata": {},
     "output_type": "display_data"
    },
    {
     "data": {
      "text/plain": [
       "pandas.core.frame.DataFrame"
      ]
     },
     "metadata": {},
     "output_type": "display_data"
    },
    {
     "data": {
      "text/html": [
       "<div>\n",
       "<style scoped>\n",
       "    .dataframe tbody tr th:only-of-type {\n",
       "        vertical-align: middle;\n",
       "    }\n",
       "\n",
       "    .dataframe tbody tr th {\n",
       "        vertical-align: top;\n",
       "    }\n",
       "\n",
       "    .dataframe thead th {\n",
       "        text-align: right;\n",
       "    }\n",
       "</style>\n",
       "<table border=\"1\" class=\"dataframe\">\n",
       "  <thead>\n",
       "    <tr style=\"text-align: right;\">\n",
       "      <th></th>\n",
       "      <th>0</th>\n",
       "      <th>1</th>\n",
       "      <th>2</th>\n",
       "      <th>3</th>\n",
       "      <th>4</th>\n",
       "      <th>5</th>\n",
       "      <th>6</th>\n",
       "      <th>7</th>\n",
       "      <th>8</th>\n",
       "    </tr>\n",
       "  </thead>\n",
       "  <tbody>\n",
       "    <tr>\n",
       "      <th>0</th>\n",
       "      <td>-0.733548</td>\n",
       "      <td>1.126743</td>\n",
       "      <td>-0.488995</td>\n",
       "      <td>-1.034195</td>\n",
       "      <td>-0.483915</td>\n",
       "      <td>-0.283409</td>\n",
       "      <td>-1.029607</td>\n",
       "      <td>-1.689162</td>\n",
       "      <td>-0.637423</td>\n",
       "    </tr>\n",
       "    <tr>\n",
       "      <th>1</th>\n",
       "      <td>-0.642794</td>\n",
       "      <td>-1.581800</td>\n",
       "      <td>0.524463</td>\n",
       "      <td>-1.316434</td>\n",
       "      <td>0.407507</td>\n",
       "      <td>0.472571</td>\n",
       "      <td>-1.029607</td>\n",
       "      <td>-1.259830</td>\n",
       "      <td>0.268387</td>\n",
       "    </tr>\n",
       "    <tr>\n",
       "      <th>2</th>\n",
       "      <td>-0.911245</td>\n",
       "      <td>1.126743</td>\n",
       "      <td>0.675823</td>\n",
       "      <td>-1.327723</td>\n",
       "      <td>-0.483915</td>\n",
       "      <td>-0.283409</td>\n",
       "      <td>-1.029607</td>\n",
       "      <td>-0.830499</td>\n",
       "      <td>0.268387</td>\n",
       "    </tr>\n",
       "    <tr>\n",
       "      <th>3</th>\n",
       "      <td>-0.352380</td>\n",
       "      <td>1.126743</td>\n",
       "      <td>0.133997</td>\n",
       "      <td>-0.469719</td>\n",
       "      <td>-0.483915</td>\n",
       "      <td>-0.283409</td>\n",
       "      <td>-1.029607</td>\n",
       "      <td>-0.401168</td>\n",
       "      <td>0.268387</td>\n",
       "    </tr>\n",
       "    <tr>\n",
       "      <th>4</th>\n",
       "      <td>0.113493</td>\n",
       "      <td>-1.439245</td>\n",
       "      <td>-0.041494</td>\n",
       "      <td>-1.259986</td>\n",
       "      <td>0.407507</td>\n",
       "      <td>-0.283409</td>\n",
       "      <td>-1.029607</td>\n",
       "      <td>-0.401168</td>\n",
       "      <td>-0.637423</td>\n",
       "    </tr>\n",
       "  </tbody>\n",
       "</table>\n",
       "</div>"
      ],
      "text/plain": [
       "          0         1         2         3         4         5         6  \\\n",
       "0 -0.733548  1.126743 -0.488995 -1.034195 -0.483915 -0.283409 -1.029607   \n",
       "1 -0.642794 -1.581800  0.524463 -1.316434  0.407507  0.472571 -1.029607   \n",
       "2 -0.911245  1.126743  0.675823 -1.327723 -0.483915 -0.283409 -1.029607   \n",
       "3 -0.352380  1.126743  0.133997 -0.469719 -0.483915 -0.283409 -1.029607   \n",
       "4  0.113493 -1.439245 -0.041494 -1.259986  0.407507 -0.283409 -1.029607   \n",
       "\n",
       "          7         8  \n",
       "0 -1.689162 -0.637423  \n",
       "1 -1.259830  0.268387  \n",
       "2 -0.830499  0.268387  \n",
       "3 -0.401168  0.268387  \n",
       "4 -0.401168 -0.637423  "
      ]
     },
     "metadata": {},
     "output_type": "display_data"
    }
   ],
   "source": [
    "# Create instances \n",
    "scaler = StandardScaler()\n",
    "# Apply scaler\n",
    "X3 = scaler.fit_transform(X3)\n",
    "display(type(X3))\n",
    "X3 = pd.DataFrame(X3)\n",
    "display(type(X3))\n",
    "display(X3.head())"
   ]
  },
  {
   "cell_type": "code",
   "execution_count": 20,
   "metadata": {},
   "outputs": [
    {
     "data": {
      "text/html": [
       "<div>\n",
       "<style scoped>\n",
       "    .dataframe tbody tr th:only-of-type {\n",
       "        vertical-align: middle;\n",
       "    }\n",
       "\n",
       "    .dataframe tbody tr th {\n",
       "        vertical-align: top;\n",
       "    }\n",
       "\n",
       "    .dataframe thead th {\n",
       "        text-align: right;\n",
       "    }\n",
       "</style>\n",
       "<table border=\"1\" class=\"dataframe\">\n",
       "  <thead>\n",
       "    <tr style=\"text-align: right;\">\n",
       "      <th></th>\n",
       "      <th>pca1</th>\n",
       "      <th>pca2</th>\n",
       "    </tr>\n",
       "  </thead>\n",
       "  <tbody>\n",
       "    <tr>\n",
       "      <th>0</th>\n",
       "      <td>0.791878</td>\n",
       "      <td>-1.272278</td>\n",
       "    </tr>\n",
       "    <tr>\n",
       "      <th>1</th>\n",
       "      <td>-0.356292</td>\n",
       "      <td>-1.992995</td>\n",
       "    </tr>\n",
       "    <tr>\n",
       "      <th>2</th>\n",
       "      <td>0.359986</td>\n",
       "      <td>-1.060501</td>\n",
       "    </tr>\n",
       "    <tr>\n",
       "      <th>3</th>\n",
       "      <td>0.533007</td>\n",
       "      <td>-0.330879</td>\n",
       "    </tr>\n",
       "    <tr>\n",
       "      <th>4</th>\n",
       "      <td>0.453613</td>\n",
       "      <td>-1.650035</td>\n",
       "    </tr>\n",
       "  </tbody>\n",
       "</table>\n",
       "</div>"
      ],
      "text/plain": [
       "       pca1      pca2\n",
       "0  0.791878 -1.272278\n",
       "1 -0.356292 -1.992995\n",
       "2  0.359986 -1.060501\n",
       "3  0.533007 -0.330879\n",
       "4  0.453613 -1.650035"
      ]
     },
     "metadata": {},
     "output_type": "display_data"
    }
   ],
   "source": [
    "# Create instances \n",
    "pca3 = PCA(n_components=2)\n",
    "# Create a fitting model\n",
    "pca3_model = pca3.fit(X3)\n",
    "# Convert to a dataframe\n",
    "X3_trans = pd.DataFrame(pca3_model.transform(X3), columns=['pca1', 'pca2'])\n",
    "display(X3_trans.head())"
   ]
  },
  {
   "cell_type": "code",
   "execution_count": 21,
   "metadata": {},
   "outputs": [
    {
     "data": {
      "text/plain": [
       "Text(0.5, 1.0, 'PCA for clean dataset (6.05 to 6) after scaling (y=grade)')"
      ]
     },
     "execution_count": 21,
     "metadata": {},
     "output_type": "execute_result"
    },
    {
     "data": {
      "image/png": "[encoded data removed]",
      "text/plain": [
       "<Figure size 432x288 with 1 Axes>"
      ]
     },
     "metadata": {
      "needs_background": "light"
     },
     "output_type": "display_data"
    }
   ],
   "source": [
    "# PCA plot\n",
    "plt.scatter(X3_trans['pca1'], X3_trans['pca2'], c=y3, s=0.2)\n",
    "plt.title('PCA for clean dataset (6.05 to 6) after scaling (y=grade)')"
   ]
  },
  {
   "cell_type": "code",
   "execution_count": 22,
   "metadata": {},
   "outputs": [
    {
     "data": {
      "text/plain": [
       "Text(0.5, 1.0, 'PCA for clean dataset (6.05 to 6) after scaling (y=grade)')"
      ]
     },
     "execution_count": 22,
     "metadata": {},
     "output_type": "execute_result"
    },
    {
     "data": {
      "image/png": "[encoded data removed]",
      "text/plain": [
       "<Figure size 432x288 with 1 Axes>"
      ]
     },
     "metadata": {
      "needs_background": "light"
     },
     "output_type": "display_data"
    }
   ],
   "source": [
    "# PCA plot with \"pca2\" < 10\n",
    "plt.scatter(X3_trans['pca1'], X3_trans['pca2'], c=y3, s=0.2)\n",
    "plt.ylim(-5, 10)\n",
    "plt.title('PCA for clean dataset (6.05 to 6) after scaling (y=grade)')"
   ]
  },
  {
   "cell_type": "markdown",
   "metadata": {},
   "source": [
    "* In this case, the plot of PCA is way different from that in the raw dataset case, which means the outliners in feature \"employment length\" explains a portion of variability of the raw dataset.\n",
    "* Since the outliners in the former feature take up less than 1% in the total dataset, there is no need to conduct data cleansing before PCA, in other words, the result in the first case will be ulitized."
   ]
  }
 ],
 "metadata": {
  "kernelspec": {
   "display_name": "Python 3",
   "language": "python",
   "name": "python3"
  },
  "language_info": {
   "codemirror_mode": {
    "name": "ipython",
    "version": 3
   },
   "file_extension": ".py",
   "mimetype": "text/x-python",
   "name": "python",
   "nbconvert_exporter": "python",
   "pygments_lexer": "ipython3",
   "version": "3.7.1"
  }
 },
 "nbformat": 4,
 "nbformat_minor": 2
}
